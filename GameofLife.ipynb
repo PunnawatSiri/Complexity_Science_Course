{
  "cells": [
    {
      "cell_type": "markdown",
      "metadata": {
        "id": "wD6I0Etud5VK"
      },
      "source": [
        "# The Game of Life and Artificial Life\n",
        "\n",
        "We mentioned in Lecture 1 that the inner workings of an organism form complex systems at multiple scales, and a collection of interacting and evolving organisms also form a complex system.\n",
        "\n",
        "In fact, the biological world is full of overlapping layers of complexity that it is difficult to derive deep understanding. In particular, it is very difficult to answer the question, \"what is life?\"\n",
        "\n",
        "<figure>\n",
        "    <img src=\"https://upload.wikimedia.org/wikipedia/commons/d/dd/Langtonsmall2.png\">\n",
        "    <figcaption>Christopher Langton</figcaption>\n",
        "</figure>\n",
        "\n",
        "In the mid-1980s, Christopher Langton proposed to study \"life-as-it-<em>could</em>-be\", instead of \"life-as-we-know-it\". He believes that different combinations of the fundamental organizing principles of life can produce not only the biological organisms that we see in our ecosystem, but is also capable of producing lifeforms and ecosystems that we have yet to encounter.\n",
        "\n",
        "By thinking of life this way, we can then ask the question of whether all the known organizing principles of life are necessary, or could there be a minimal subset of organizing principles that are more fundamental than others."
      ]
    },
    {
      "cell_type": "markdown",
      "metadata": {
        "id": "9iJMFprad5VX"
      },
      "source": [
        "# John Conway's Game of Life\n",
        "\n",
        "In 1970, British mathematician John Conway invented a zero-player game called the <em>Game of Life</em>.\n",
        "\n",
        "<figure>\n",
        "    <img src=\"https://upload.wikimedia.org/wikipedia/commons/thumb/0/04/John_H_Conway_2005_%28cropped%29.jpg/500px-John_H_Conway_2005_%28cropped%29.jpg\">\n",
        "    <figcaption>John Conway</figcaption>\n",
        "</figure>\n",
        "\n",
        "The Game of Life is an example of a <em>cellular automata</em>, which is a discrete model of computation. Typically, we play this game on a square grid with $N \\times N$ cells.\n",
        "\n",
        "Each cell can only have two possible states, <em>dead</em> (represented by a '0', and the cell left empty (white)) or <em>alive</em> (represented by a '1', and the cell is colored black).\n",
        "\n",
        "A live cell can remain alive, or die in the next time step, while a dead cell can remain dead, or come to life in the next time step, depending on its neighborhood of eight cells (north, northeast, east, southeast, south, southwest, west, northwes).\n",
        "\n",
        "## Rules\n",
        "\n",
        "The rules for the Game of Life's time evolution are simple:\n",
        "<ol>\n",
        "    <li> If a live cell is surrounded by fewer than two live neighbours, it dies because of underpopulation;\n",
        "    <li> If a live cell is surrounded by two or three live neighbours, it remains alive;\n",
        "    <li> If a live cell is surrounded by more than three live neighbours, it dies because of overpopulation;\n",
        "    <li> If a dead cell is surrounded by exactly three live neighbours, it comes to live in the next turn.\n",
        "</ol>\n",
        "        "
      ]
    },
    {
      "cell_type": "markdown",
      "metadata": {
        "id": "OrxTCPJkd5VZ"
      },
      "source": [
        "# Programming the Game of Life in Python\n",
        "\n",
        "Because of the simply rules, the Game of Life is easy to programme.\n",
        "\n",
        "Let us do this step by step in Python.\n",
        "\n",
        "First, for running numeric simulations, it is convenient to import the NumPy module in Python, as:"
      ]
    },
    {
      "cell_type": "code",
      "execution_count": 48,
      "metadata": {
        "id": "QohOTMXsd5Va"
      },
      "outputs": [],
      "source": [
        "# import modules\n",
        "import numpy as np"
      ]
    },
    {
      "cell_type": "markdown",
      "metadata": {
        "id": "Mmzw0u3Od5Vc"
      },
      "source": [
        "We should also import the PyPlot module, for plotting our results."
      ]
    },
    {
      "cell_type": "code",
      "execution_count": 49,
      "metadata": {
        "colab": {
          "base_uri": "https://localhost:8080/",
          "height": 435
        },
        "id": "3v5PiPHmd5V8",
        "outputId": "70d61a3a-bce8-4da3-a630-8a32f79d368c"
      },
      "outputs": [
        {
          "output_type": "display_data",
          "data": {
            "text/plain": [
              "<Figure size 640x480 with 1 Axes>"
            ],
            "image/png": "[encoded data removed]"
          },
          "metadata": {}
        }
      ],
      "source": [
        "import matplotlib.pyplot as plt\n",
        "fig, ax = plt.subplots()"
      ]
    },
    {
      "cell_type": "markdown",
      "metadata": {
        "id": "3g1XPCmHd5V9"
      },
      "source": [
        "Next, let us specify $N$, the size of the board as:"
      ]
    },
    {
      "cell_type": "code",
      "execution_count": 50,
      "metadata": {
        "id": "xEp9tCGrd5V9"
      },
      "outputs": [],
      "source": [
        "# specify size of board\n",
        "N = 50"
      ]
    },
    {
      "cell_type": "markdown",
      "metadata": {
        "id": "xzL7L2uvd5V_"
      },
      "source": [
        "Following this, let us create the game board as a NumPy array:"
      ]
    },
    {
      "cell_type": "code",
      "execution_count": 51,
      "metadata": {
        "id": "54galeEqd5WA"
      },
      "outputs": [],
      "source": [
        "# create game board\n",
        "board = np.zeros((N,N))"
      ]
    },
    {
      "cell_type": "markdown",
      "metadata": {
        "id": "Ad55T0u3d5WC"
      },
      "source": [
        "This game board consists initially of all zeros, i.e., all dead cells. Therefore, the next thing to do is to specify the initial configuration of live cells on the board."
      ]
    },
    {
      "cell_type": "code",
      "execution_count": 52,
      "metadata": {
        "id": "V9Ec2pJfd5WR"
      },
      "outputs": [],
      "source": [
        "# initialize game board\n",
        "for i in range(N):\n",
        "    for j in range(N):\n",
        "        if np.random.rand() < 0.2:\n",
        "            board[i,j] = 1.0"
      ]
    },
    {
      "cell_type": "code",
      "source": [
        "im = ax.matshow(board)\n",
        "ims = []\n",
        "ims.append([im])"
      ],
      "metadata": {
        "id": "YOqe_TwUey-9"
      },
      "execution_count": 53,
      "outputs": []
    },
    {
      "cell_type": "markdown",
      "metadata": {
        "id": "tczvI0Vvd5WS"
      },
      "source": [
        "You can specify any initial configuration of live cells you like here. Here let us try a random initial configuration, where 20% of the cells are alive, and the remaining dead. We can also work with a lower or higher proportions, but these would lead to underpopulation and overpopulation, and the whole board may just die out in the next time step."
      ]
    },
    {
      "cell_type": "markdown",
      "metadata": {
        "id": "OgMWzcFsd5Wk"
      },
      "source": [
        "Let us take a look at the board we created."
      ]
    },
    {
      "cell_type": "code",
      "execution_count": 54,
      "metadata": {
        "id": "4IARqVitd5Wk"
      },
      "outputs": [],
      "source": [
        "# plt.matshow(board)"
      ]
    },
    {
      "cell_type": "markdown",
      "metadata": {
        "id": "MZE54xSfd5Wm"
      },
      "source": [
        "Let us start by running the simulation one step at a time. To do this, we need to loop over cells on the board, and store the results in a new game board.\n",
        "\n",
        "But before we can do this, we have to first solve a subtle problem: if I am a cell along the edge of the board, or at the corner of the board, who are my neighbors?"
      ]
    },
    {
      "cell_type": "markdown",
      "metadata": {
        "id": "O9053edxd5Wn"
      },
      "source": [
        "There are many ways to handle this.\n",
        "\n",
        "One way would be to treat the corners and edges of the board to be special, in that they have fewer neighbours. However, if we do this, we would also have to modify the conditions for such cells to remain alive or dead.\n",
        "\n",
        "Another way to handle this would be to imagine that the parallel edges of the game board wrapping around to join together. In this way, the eastern neighbour of a cell on the eastern edge of the board is a cell on the western edge of the board, while the northern neighbour of a cell on the northern edge of the board is a cell on the southern edge of the board.\n",
        "\n",
        "In this second way to handle neighbours, called <em>periodic boundary conditions</em>, we do not need to modify the conditions for living and dead cells, because all cells have the same number (8) of neighbours.\n",
        "\n",
        "Whatever boundary conditions we wish to implement, it is useful to create a data structure called a <em>neighbour list</em>. This can be done using a dictionary as follows:"
      ]
    },
    {
      "cell_type": "code",
      "execution_count": 55,
      "metadata": {
        "id": "Il0T3ujed5Wn"
      },
      "outputs": [],
      "source": [
        "# initialize dictionary\n",
        "nbrs = dict()\n",
        "# neighbors of corners\n",
        "nbrs[(0,0)] = [ (0, 1), (1, 1), (1, 0) ]\n",
        "nbrs[(0,N-1)] = [ (1, N-1), (1, N-2), (0, N-2) ]\n",
        "nbrs[(N-1,N-1)] = [ (N-1, N-2), (N-2, N-2), (N-2, N-1) ]\n",
        "nbrs[(N-1,0)] = [ (N-2, 0), (N-2, 1), (N-1, 1) ]\n",
        "# neighbors of left edge\n",
        "for j in range(1,N-1):\n",
        "    nbrs[(0,j)] = [ (0, j+1), (1, j+1), (1, j), (1, j-1), (0, j-1) ]\n",
        "# neighbors of top edge\n",
        "for i in range(1,N-1):\n",
        "    nbrs[(i,N-1)] = [ (i+1, N-1), (i+1, N-2), (i, N-2), (i-1, N-2), (i-1, N-1) ]\n",
        "# neighbors of right edge\n",
        "for j in range(1,N-1):\n",
        "    nbrs[(N-1,j)] =  [ (N-1, j-1), (N-2, j-1), (N-2, j), (N-2, j+1), (N-1, j+1) ]\n",
        "# neighbors of bottom edge\n",
        "for i in range(1,N-1):\n",
        "    nbrs[(i,0)] = [ (i-1, 0), (i-1, 1), (i, 1), (i+1, 1), (i+1, 0) ]\n",
        "# neighbors of interior nodes\n",
        "for i in range(1,N-1):\n",
        "    for j in range(1,N-1):\n",
        "        nbrs[(i,j)] = [ (i, j+1), (i+1, j+1), (i+1, j), (i+1, j-1), (i, j-1), (i-1, j-1), (i-1, j), (i-1, j+1) ]"
      ]
    },
    {
      "cell_type": "code",
      "source": [
        "nbrs[(0,0)]"
      ],
      "metadata": {
        "colab": {
          "base_uri": "https://localhost:8080/"
        },
        "id": "qciP-W9pPpy2",
        "outputId": "d4309976-9542-41e2-e884-cd3edbb8ee61"
      },
      "execution_count": 56,
      "outputs": [
        {
          "output_type": "execute_result",
          "data": {
            "text/plain": [
              "[(0, 1), (1, 1), (1, 0)]"
            ]
          },
          "metadata": {},
          "execution_count": 56
        }
      ]
    },
    {
      "cell_type": "markdown",
      "metadata": {
        "id": "PwDYMZRkd5Wo"
      },
      "source": [
        "We can now simulate one turn of the Game of Life as follows:"
      ]
    },
    {
      "cell_type": "code",
      "execution_count": 72,
      "metadata": {
        "id": "OUPnVVyid5Wo"
      },
      "outputs": [],
      "source": [
        "def step_(board,N):\n",
        "  # create new game board to store results\n",
        "  newboard = np.zeros((N,N))\n",
        "  # loop over all cells on the board\n",
        "  for i in range(N):\n",
        "      for j in range(N):\n",
        "          # initialize number of neighbors\n",
        "          numnbr = 0\n",
        "          # loop over neighbors\n",
        "          for (k,l) in nbrs[(i,j)]:\n",
        "              numnbr += board[k,l]\n",
        "          # update board[i,j] to newboard[i,j]\n",
        "          if board[i,j] == 1.0:\n",
        "              if (numnbr < 2.0) or (numnbr > 3.0):\n",
        "                  newboard[i,j] = 0.0\n",
        "              else:\n",
        "                  newboard[i,j] = 1.0\n",
        "          else:\n",
        "              if numnbr == 3.0:\n",
        "                  newboard[i,j] = 1.0\n",
        "              else:\n",
        "                  newboard[i,j] = 0.0\n",
        "  board = np.array(newboard)\n",
        "  return board\n",
        "board = step_(board,N)\n",
        "im = ax.matshow(board,animated=True)\n",
        "ims.append([im])"
      ]
    },
    {
      "cell_type": "markdown",
      "metadata": {
        "id": "46Kv1-D9d5Wp"
      },
      "source": [
        "Let us take a look at the updated board."
      ]
    },
    {
      "cell_type": "code",
      "execution_count": 58,
      "metadata": {
        "id": "OvANYwe5d5Wp"
      },
      "outputs": [],
      "source": [
        "# plt.matshow(board)"
      ]
    },
    {
      "cell_type": "markdown",
      "metadata": {
        "id": "OK42scfAd5Wq"
      },
      "source": [
        "Next, we specify the total number of turns $T$ that we would like to simulate:"
      ]
    },
    {
      "cell_type": "code",
      "execution_count": 59,
      "metadata": {
        "id": "EWR5tC19d5XC"
      },
      "outputs": [],
      "source": [
        "# specify number of turns to simulate\n",
        "T = 50"
      ]
    },
    {
      "cell_type": "markdown",
      "metadata": {
        "id": "khTniMFFd5XD"
      },
      "source": [
        "Finally, we run the simulation for $T = 20$ time steps."
      ]
    },
    {
      "cell_type": "code",
      "execution_count": 60,
      "metadata": {
        "id": "I69UtTygd5XD"
      },
      "outputs": [],
      "source": [
        "for t in range(T):\n",
        "    board = step_(board,N)\n",
        "    im = ax.matshow(board,animated=True)\n",
        "    ims.append([im])"
      ]
    },
    {
      "cell_type": "markdown",
      "metadata": {
        "id": "uQF-u4MPd5XE"
      },
      "source": [
        "Let us now see after simulating the Game of Life for 20 turns, what board we end up with."
      ]
    },
    {
      "cell_type": "code",
      "source": [
        "import matplotlib.animation as animation"
      ],
      "metadata": {
        "id": "t6BE2toienWD"
      },
      "execution_count": 61,
      "outputs": []
    },
    {
      "cell_type": "code",
      "execution_count": 62,
      "metadata": {
        "id": "OzCZnmPDd5XE"
      },
      "outputs": [],
      "source": [
        "# plt.matshow(board)"
      ]
    },
    {
      "cell_type": "code",
      "source": [
        "ani = animation.ArtistAnimation(fig, ims, interval=50, blit=True,\n",
        "                                repeat_delay=1000)\n",
        "plt.show()"
      ],
      "metadata": {
        "id": "Lq1LSt_BfXId"
      },
      "execution_count": 63,
      "outputs": []
    },
    {
      "cell_type": "code",
      "source": [
        "# show ani\n",
        "ani.save('gameoflife.gif', writer='imagemagick', fps=60)"
      ],
      "metadata": {
        "colab": {
          "base_uri": "https://localhost:8080/"
        },
        "id": "Ey1k8Wo7gYXF",
        "outputId": "78d79369-900b-4f79-ecae-21c9b82dd895"
      },
      "execution_count": 64,
      "outputs": [
        {
          "output_type": "stream",
          "name": "stderr",
          "text": [
            "WARNING:matplotlib.animation:MovieWriter imagemagick unavailable; using Pillow instead.\n"
          ]
        }
      ]
    },
    {
      "cell_type": "markdown",
      "metadata": {
        "id": "cNgsKQ4hd5XF"
      },
      "source": [
        "## Periodic Boundary Conditions\n",
        "\n",
        "In the above example, we simulated the Game of Life using fixed boundary conditions, i.e., the grid ends at the four boundaries and do not extend beyond.\n",
        "\n",
        "We can also simulate the Game of Life using periodic boundary conditions.\n",
        "\n",
        "How do you adapt the <code>nbrs</code> array for this to happen?"
      ]
    },
    {
      "cell_type": "code",
      "source": [
        "class PeriodicNBRS:\n",
        "  def __init__(self, N,p=0.2):\n",
        "    self.fig, self.ax = plt.subplots()\n",
        "    self.ims = []\n",
        "    self.N = N\n",
        "    self.board = np.zeros((N,N))\n",
        "\n",
        "    # initialize game board\n",
        "    for i in range(N):\n",
        "        for j in range(N):\n",
        "            if np.random.rand() < p:\n",
        "                self.board[i,j] = 1.0\n",
        "\n",
        "    im = self.ax.matshow(board,animated=True)\n",
        "    self.ims.append([im])\n",
        "\n",
        "  def init_nbrs_periodic(self):\n",
        "    N = self.N\n",
        "    # initialize dictionary\n",
        "    nbrs = dict()\n",
        "    # neighbors of corners\n",
        "    nbrs[(0,0)] = [ (0, 1), (1, 1), (1, 0) ] + [(0,N-1), (N-1,N-1), (N-1,0)]\n",
        "    nbrs[(0,N-1)] = [ (1, N-1), (1, N-2), (0, N-2) ] + [(0,0), (N-1,N-1), (N-1,0)]\n",
        "    nbrs[(N-1,N-1)] = [ (N-1, N-2), (N-2, N-2), (N-2, N-1) ] + [(0,0), (0,N-1), (N-1,0)]\n",
        "    nbrs[(N-1,0)] = [ (N-2, 0), (N-2, 1), (N-1, 1) ] + [(0,0), (0,N-1), (N-1,N-1)]\n",
        "    # neighbors of left edge\n",
        "    for j in range(1,N-1):\n",
        "        nbrs[(0,j)] = [ (0, j+1), (1, j+1), (1, j), (1, j-1), (0, j-1) ]\n",
        "        nbrs[(0,j)].extend([(N-1,j+1), (N-1, j), (N-1, j-1)])\n",
        "    # neighbors of top edge\n",
        "    for i in range(1,N-1):\n",
        "        nbrs[(i,N-1)] = [ (i+1, N-1), (i+1, N-2), (i, N-2), (i-1, N-2), (i-1, N-1) ]\n",
        "        nbrs[(i,N-1)].extend([(i+1, 0), (i, 0), (i-1, 0)])\n",
        "    # neighbors of right edge\n",
        "    for j in range(1,N-1):\n",
        "        nbrs[(N-1,j)] =  [ (N-1, j-1), (N-2, j-1), (N-2, j), (N-2, j+1), (N-1, j+1) ]\n",
        "        nbrs[(N-1,j)].extend([(0, j-1), (0, j), (0, j+1)])\n",
        "    # neighbors of bottom edge\n",
        "    for i in range(1,N-1):\n",
        "        nbrs[(i,0)] = [ (i-1, 0), (i-1, 1), (i, 1), (i+1, 1), (i+1, 0) ]\n",
        "        nbrs[(i,0)].extend([(i-1, N-1), (i, N-1), (i+1, N-1)])\n",
        "    # neighbors of interior nodes\n",
        "    for i in range(1,N-1):\n",
        "        for j in range(1,N-1):\n",
        "            nbrs[(i,j)] = [ (i, j+1), (i+1, j+1), (i+1, j), (i+1, j-1), (i, j-1), (i-1, j-1), (i-1, j), (i-1, j+1) ]\n",
        "    self.nbrs = nbrs\n",
        "    return self.nbrs\n",
        "\n",
        "  def step(self):\n",
        "    # create new game board to store results\n",
        "    newboard = np.zeros((N,N))\n",
        "    # loop over all cells on the board\n",
        "    for i in range(N):\n",
        "        for j in range(N):\n",
        "            # initialize number of neighbors\n",
        "            numnbr = 0\n",
        "            # loop over neighbors\n",
        "            for (k,l) in nbrs[(i,j)]:\n",
        "                numnbr += self.board[k,l]\n",
        "            # update board[i,j] to newboard[i,j]\n",
        "            if self.board[i,j] == 1.0:\n",
        "                if (numnbr < 2.0) or (numnbr > 3.0):\n",
        "                    newboard[i,j] = 0.0\n",
        "                else:\n",
        "                    newboard[i,j] = 1.0\n",
        "            else:\n",
        "                if numnbr == 3.0:\n",
        "                    newboard[i,j] = 1.0\n",
        "                else:\n",
        "                    newboard[i,j] = 0.0\n",
        "    self.board = np.array(newboard)\n",
        "    im = self.ax.matshow(self.board,animated=True)\n",
        "    self.ims.append([im])\n",
        "    return self.board\n",
        "\n",
        "  def show(self,Name='gameoflife_periodic.gif'):\n",
        "    ani = animation.ArtistAnimation(self.fig, self.ims, interval=50, blit=True,\n",
        "                                    repeat_delay=1000)\n",
        "    # show ani\n",
        "    ani.save(Name, writer='imagemagick', fps=60)"
      ],
      "metadata": {
        "id": "cj1ZGKR5Q24S"
      },
      "execution_count": 90,
      "outputs": []
    },
    {
      "cell_type": "code",
      "source": [
        "N = 20\n",
        "T = 100\n",
        "PNBRS = PeriodicNBRS(N)\n",
        "PNBRS.init_nbrs_periodic()\n",
        "for t in range(T):\n",
        "    PNBRS.step()\n",
        "PNBRS.show()"
      ],
      "metadata": {
        "colab": {
          "base_uri": "https://localhost:8080/",
          "height": 452
        },
        "id": "OZQ-Gy0JW07K",
        "outputId": "c7905035-1f6f-4170-88d4-5fd4a19d7b58"
      },
      "execution_count": 91,
      "outputs": [
        {
          "output_type": "stream",
          "name": "stderr",
          "text": [
            "WARNING:matplotlib.animation:MovieWriter imagemagick unavailable; using Pillow instead.\n"
          ]
        },
        {
          "output_type": "display_data",
          "data": {
            "text/plain": [
              "<Figure size 640x480 with 1 Axes>"
            ],
            "image/png": "[encoded data removed]"
          },
          "metadata": {}
        }
      ]
    },
    {
      "cell_type": "markdown",
      "metadata": {
        "id": "fAhGiy_jd5XL"
      },
      "source": [
        "## Gliders and Breeders\n",
        "\n",
        "Go to the Wikipedia page <a href=\"https://en.wikipedia.org/wiki/Conway%27s_Game_of_Life\">Game of Life</a> on the Game of Life, to check that the patterns given indeed behave as they are described."
      ]
    },
    {
      "cell_type": "markdown",
      "metadata": {
        "id": "99pSdJ3Ld5XM"
      },
      "source": [
        "## Test Your Own Patterns\n",
        "\n",
        "Design also some of your own patterns, to see if they would survive in the Game of Life simulation."
      ]
    },
    {
      "cell_type": "code",
      "execution_count": 69,
      "metadata": {
        "id": "wE6C9iptd5XM"
      },
      "outputs": [],
      "source": []
    }
  ],
  "metadata": {
    "kernelspec": {
      "display_name": "Python 3",
      "language": "python",
      "name": "python3"
    },
    "language_info": {
      "codemirror_mode": {
        "name": "ipython",
        "version": 3
      },
      "file_extension": ".py",
      "mimetype": "text/x-python",
      "name": "python",
      "nbconvert_exporter": "python",
      "pygments_lexer": "ipython3",
      "version": "3.7.6"
    },
    "colab": {
      "provenance": []
    }
  },
  "nbformat": 4,
  "nbformat_minor": 0
}