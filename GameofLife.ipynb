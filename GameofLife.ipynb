{
 "cells": [
  {
   "cell_type": "markdown",
   "metadata": {},
   "source": [
    "# The Game of Life and Artificial Life\n",
    "\n",
    "We mentioned in Lecture 1 that the inner workings of an organism form complex systems at multiple scales, and a collection of interacting and evolving organisms also form a complex system.\n",
    "\n",
    "In fact, the biological world is full of overlapping layers of complexity that it is difficult to derive deep understanding. In particular, it is very difficult to answer the question, \"what is life?\"\n",
    "\n",
    "<figure>\n",
    "    <img src=\"https://upload.wikimedia.org/wikipedia/commons/d/dd/Langtonsmall2.png\">\n",
    "    <figcaption>Christopher Langton</figcaption>\n",
    "</figure>\n",
    "\n",
    "In the mid-1980s, Christopher Langton proposed to study \"life-as-it-<em>could</em>-be\", instead of \"life-as-we-know-it\". He believes that different combinations of the fundamental organizing principles of life can produce not only the biological organisms that we see in our ecosystem, but is also capable of producing lifeforms and ecosystems that we have yet to encounter.\n",
    "\n",
    "By thinking of life this way, we can then ask the question of whether all the known organizing principles of life are necessary, or could there be a minimal subset of organizing principles that are more fundamental than others."
   ]
  },
  {
   "cell_type": "markdown",
   "metadata": {},
   "source": [
    "# John Conway's Game of Life\n",
    "\n",
    "In 1970, British mathematician John Conway invented a zero-player game called the <em>Game of Life</em>.\n",
    "\n",
    "<figure>\n",
    "    <img src=\"https://upload.wikimedia.org/wikipedia/commons/thumb/0/04/John_H_Conway_2005_%28cropped%29.jpg/500px-John_H_Conway_2005_%28cropped%29.jpg\">\n",
    "    <figcaption>John Conway</figcaption>\n",
    "</figure>\n",
    "\n",
    "The Game of Life is an example of a <em>cellular automata</em>, which is a discrete model of computation. Typically, we play this game on a square grid with $N \\times N$ cells.\n",
    "\n",
    "Each cell can only have two possible states, <em>dead</em> (represented by a '0', and the cell left empty (white)) or <em>alive</em> (represented by a '1', and the cell is colored black).\n",
    "\n",
    "A live cell can remain alive, or die in the next time step, while a dead cell can remain dead, or come to life in the next time step, depending on its neighborhood of eight cells (north, northeast, east, southeast, south, southwest, west, northwes).\n",
    "\n",
    "## Rules\n",
    "\n",
    "The rules for the Game of Life's time evolution are simple:\n",
    "<ol>\n",
    "    <li> If a live cell is surrounded by fewer than two live neighbours, it dies because of underpopulation;\n",
    "    <li> If a live cell is surrounded by two or three live neighbours, it remains alive;\n",
    "    <li> If a live cell is surrounded by more than three live neighbours, it dies because of overpopulation;\n",
    "    <li> If a dead cell is surrounded by exactly three live neighbours, it comes to live in the next turn.\n",
    "</ol>\n",
    "        "
   ]
  },
  {
   "cell_type": "markdown",
   "metadata": {},
   "source": [
    "# Programming the Game of Life in Python\n",
    "\n",
    "Because of the simply rules, the Game of Life is easy to programme.\n",
    "\n",
    "Let us do this step by step in Python.\n",
    "\n",
    "First, for running numeric simulations, it is convenient to import the NumPy module in Python, as:"
   ]
  },
  {
   "cell_type": "code",
   "execution_count": 1,
   "metadata": {},
   "outputs": [],
   "source": [
    "# import modules\n",
    "import numpy as np"
   ]
  },
  {
   "cell_type": "markdown",
   "metadata": {},
   "source": [
    "We should also import the PyPlot module, for plotting our results."
   ]
  },
  {
   "cell_type": "code",
   "execution_count": 2,
   "metadata": {},
   "outputs": [],
   "source": [
    "import matplotlib.pyplot as plt"
   ]
  },
  {
   "cell_type": "markdown",
   "metadata": {},
   "source": [
    "Next, let us specify $N$, the size of the board as:"
   ]
  },
  {
   "cell_type": "code",
   "execution_count": 3,
   "metadata": {},
   "outputs": [],
   "source": [
    "# specify size of board\n",
    "N = 20"
   ]
  },
  {
   "cell_type": "markdown",
   "metadata": {},
   "source": [
    "Following this, let us create the game board as a NumPy array:"
   ]
  },
  {
   "cell_type": "code",
   "execution_count": 4,
   "metadata": {},
   "outputs": [],
   "source": [
    "# create game board\n",
    "board = np.zeros((N,N))"
   ]
  },
  {
   "cell_type": "markdown",
   "metadata": {},
   "source": [
    "This game board consists initially of all zeros, i.e., all dead cells. Therefore, the next thing to do is to specify the initial configuration of live cells on the board."
   ]
  },
  {
   "cell_type": "code",
   "execution_count": 5,
   "metadata": {},
   "outputs": [],
   "source": [
    "# initialize game board\n",
    "for i in range(N):\n",
    "    for j in range(N):\n",
    "        if np.random.rand() < 0.2:\n",
    "            board[i,j] = 1.0"
   ]
  },
  {
   "cell_type": "markdown",
   "metadata": {},
   "source": [
    "You can specify any initial configuration of live cells you like here. Here let us try a random initial configuration, where 20% of the cells are alive, and the remaining dead. We can also work with a lower or higher proportions, but these would lead to underpopulation and overpopulation, and the whole board may just die out in the next time step."
   ]
  },
  {
   "cell_type": "markdown",
   "metadata": {},
   "source": [
    "Let us take a look at the board we created."
   ]
  },
  {
   "cell_type": "code",
   "execution_count": 6,
   "metadata": {},
   "outputs": [
    {
     "data": {
      "text/plain": [
       "<matplotlib.image.AxesImage at 0x7f9df72e0190>"
      ]
     },
     "execution_count": 6,
     "metadata": {},
     "output_type": "execute_result"
    },
    {
     "data": {
      "image/png": "[encoded data removed]",
      "text/plain": [
       "<Figure size 288x288 with 1 Axes>"
      ]
     },
     "metadata": {
      "needs_background": "light"
     },
     "output_type": "display_data"
    }
   ],
   "source": [
    "plt.matshow(board)"
   ]
  },
  {
   "cell_type": "markdown",
   "metadata": {},
   "source": [
    "Let us start by running the simulation one step at a time. To do this, we need to loop over cells on the board, and store the results in a new game board.\n",
    "\n",
    "But before we can do this, we have to first solve a subtle problem: if I am a cell along the edge of the board, or at the corner of the board, who are my neighbors?"
   ]
  },
  {
   "cell_type": "markdown",
   "metadata": {},
   "source": [
    "There are many ways to handle this.\n",
    "\n",
    "One way would be to treat the corners and edges of the board to be special, in that they have fewer neighbours. However, if we do this, we would also have to modify the conditions for such cells to remain alive or dead.\n",
    "\n",
    "Another way to handle this would be to imagine that the parallel edges of the game board wrapping around to join together. In this way, the eastern neighbour of a cell on the eastern edge of the board is a cell on the western edge of the board, while the northern neighbour of a cell on the northern edge of the board is a cell on the southern edge of the board.\n",
    "\n",
    "In this second way to handle neighbours, called <em>periodic boundary conditions</em>, we do not need to modify the conditions for living and dead cells, because all cells have the same number (8) of neighbours.\n",
    "\n",
    "Whatever boundary conditions we wish to implement, it is useful to create a data structure called a <em>neighbour list</em>. This can be done using a dictionary as follows:"
   ]
  },
  {
   "cell_type": "code",
   "execution_count": 7,
   "metadata": {},
   "outputs": [],
   "source": [
    "# initialize dictionary\n",
    "nbrs = dict()\n",
    "# neighbors of corners\n",
    "nbrs[(0,0)] = [ (0, 1), (1, 1), (1, 0) ]\n",
    "nbrs[(0,N-1)] = [ (1, N-1), (1, N-2), (0, N-2) ]\n",
    "nbrs[(N-1,N-1)] = [ (N-1, N-2), (N-2, N-2), (N-2, N-1) ]\n",
    "nbrs[(N-1,0)] = [ (N-2, 0), (N-2, 1), (N-1, 1) ]\n",
    "# neighbors of left edge\n",
    "for j in range(1,N-1):\n",
    "    nbrs[(0,j)] = [ (0, j+1), (1, j+1), (1, j), (1, j-1), (0, j-1) ]\n",
    "# neighbors of top edge\n",
    "for i in range(1,N-1):\n",
    "    nbrs[(i,N-1)] = [ (i+1, N-1), (i+1, N-2), (i, N-2), (i-1, N-2), (i-1, N-1) ]\n",
    "# neighbors of right edge\n",
    "for j in range(1,N-1):\n",
    "    nbrs[(N-1,j)] =  [ (N-1, j-1), (N-2, j-1), (N-2, j), (N-2, j+1), (N-1, j+1) ]\n",
    "# neighbors of bottom edge\n",
    "for i in range(1,N-1):\n",
    "    nbrs[(i,0)] = [ (i-1, 0), (i-1, 1), (i, 1), (i+1, 1), (i+1, 0) ]\n",
    "# neighbors of interior nodes\n",
    "for i in range(1,N-1):\n",
    "    for j in range(1,N-1):\n",
    "        nbrs[(i,j)] = [ (i, j+1), (i+1, j+1), (i+1, j), (i+1, j-1), (i, j-1), (i-1, j-1), (i-1, j), (i-1, j+1) ]"
   ]
  },
  {
   "cell_type": "markdown",
   "metadata": {},
   "source": [
    "We can now simulate one turn of the Game of Life as follows:"
   ]
  },
  {
   "cell_type": "code",
   "execution_count": 8,
   "metadata": {},
   "outputs": [],
   "source": [
    "# create new game board to store results\n",
    "newboard = np.zeros((N,N))\n",
    "# loop over all cells on the board\n",
    "for i in range(N):\n",
    "    for j in range(N):\n",
    "        # initialize number of neighbors\n",
    "        numnbr = 0\n",
    "        # loop over neighbors\n",
    "        for (k,l) in nbrs[(i,j)]:\n",
    "            numnbr += board[k,l]\n",
    "        # update board[i,j] to newboard[i,j]\n",
    "        if board[i,j] == 1.0:\n",
    "            if (numnbr < 2.0) or (numnbr > 3.0):\n",
    "                newboard[i,j] = 0.0\n",
    "            else:\n",
    "                newboard[i,j] = 1.0\n",
    "        else:\n",
    "            if numnbr == 3.0:\n",
    "                newboard[i,j] = 1.0\n",
    "            else:\n",
    "                newboard[i,j] = 0.0\n",
    "board = np.array(newboard)"
   ]
  },
  {
   "cell_type": "markdown",
   "metadata": {},
   "source": [
    "Let us take a look at the updated board."
   ]
  },
  {
   "cell_type": "code",
   "execution_count": 9,
   "metadata": {},
   "outputs": [
    {
     "data": {
      "text/plain": [
       "<matplotlib.image.AxesImage at 0x7f9df467ea50>"
      ]
     },
     "execution_count": 9,
     "metadata": {},
     "output_type": "execute_result"
    },
    {
     "data": {
      "image/png": "[encoded data removed]",
      "text/plain": [
       "<Figure size 288x288 with 1 Axes>"
      ]
     },
     "metadata": {
      "needs_background": "light"
     },
     "output_type": "display_data"
    }
   ],
   "source": [
    "plt.matshow(board)"
   ]
  },
  {
   "cell_type": "markdown",
   "metadata": {},
   "source": [
    "Next, we specify the total number of turns $T$ that we would like to simulate:"
   ]
  },
  {
   "cell_type": "code",
   "execution_count": 10,
   "metadata": {},
   "outputs": [],
   "source": [
    "# specify number of turns to simulate\n",
    "T = 20"
   ]
  },
  {
   "cell_type": "markdown",
   "metadata": {},
   "source": [
    "Finally, we run the simulation for $T = 20$ time steps."
   ]
  },
  {
   "cell_type": "code",
   "execution_count": 11,
   "metadata": {},
   "outputs": [],
   "source": [
    "for t in range(T):\n",
    "    # create new game board to store results\n",
    "    newboard = np.zeros((N,N))\n",
    "    # loop over all cells on the board\n",
    "    for i in range(N):\n",
    "        for j in range(N):\n",
    "            # initialize number of neighbors\n",
    "            numnbr = 0\n",
    "            # loop over neighbors\n",
    "            for (k,l) in nbrs[(i,j)]:\n",
    "                numnbr += board[k,l]\n",
    "            # update board[i,j] to newboard[i,j]\n",
    "            if board[i,j] == 1.0:\n",
    "                if (numnbr < 2.0) or (numnbr > 3.0):\n",
    "                    newboard[i,j] = 0.0\n",
    "                else:\n",
    "                    newboard[i,j] = 1.0\n",
    "            else:\n",
    "                if numnbr == 3.0:\n",
    "                    newboard[i,j] = 1.0\n",
    "                else:\n",
    "                    newboard[i,j] = 0.0\n",
    "    board = np.array(newboard)"
   ]
  },
  {
   "cell_type": "markdown",
   "metadata": {},
   "source": [
    "Let us now see after simulating the Game of Life for 20 turns, what board we end up with."
   ]
  },
  {
   "cell_type": "code",
   "execution_count": 12,
   "metadata": {},
   "outputs": [
    {
     "data": {
      "text/plain": [
       "<matplotlib.image.AxesImage at 0x7f9df4669750>"
      ]
     },
     "execution_count": 12,
     "metadata": {},
     "output_type": "execute_result"
    },
    {
     "data": {
      "image/png": "[encoded data removed]",
      "text/plain": [
       "<Figure size 288x288 with 1 Axes>"
      ]
     },
     "metadata": {
      "needs_background": "light"
     },
     "output_type": "display_data"
    }
   ],
   "source": [
    "plt.matshow(board)"
   ]
  },
  {
   "cell_type": "markdown",
   "metadata": {},
   "source": [
    "## Periodic Boundary Conditions\n",
    "\n",
    "In the above example, we simulated the Game of Life using fixed boundary conditions, i.e., the grid ends at the four boundaries and do not extend beyond.\n",
    "\n",
    "We can also simulate the Game of Life using periodic boundary conditions.\n",
    "\n",
    "How do you adapt the <code>nbrs</code> array for this to happen?"
   ]
  },
  {
   "cell_type": "markdown",
   "metadata": {},
   "source": [
    "## Gliders and Breeders\n",
    "\n",
    "Go to the Wikipedia page <a href=\"https://en.wikipedia.org/wiki/Conway%27s_Game_of_Life\">Game of Life</a> on the Game of Life, to check that the patterns given indeed behave as they are described."
   ]
  },
  {
   "cell_type": "markdown",
   "metadata": {},
   "source": [
    "## Test Your Own Patterns\n",
    "\n",
    "Design also some of your own patterns, to see if they would survive in the Game of Life simulation."
   ]
  },
  {
   "cell_type": "code",
   "execution_count": null,
   "metadata": {},
   "outputs": [],
   "source": []
  }
 ],
 "metadata": {
  "kernelspec": {
   "display_name": "Python 3",
   "language": "python",
   "name": "python3"
  },
  "language_info": {
   "codemirror_mode": {
    "name": "ipython",
    "version": 3
   },
   "file_extension": ".py",
   "mimetype": "text/x-python",
   "name": "python",
   "nbconvert_exporter": "python",
   "pygments_lexer": "ipython3",
   "version": "3.7.6"
  }
 },
 "nbformat": 4,
 "nbformat_minor": 4
}
