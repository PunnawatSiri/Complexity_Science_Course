{
 "cells": [
  {
   "cell_type": "markdown",
   "metadata": {},
   "source": [
    "# Schelling's Segregation Model"
   ]
  },
  {
   "cell_type": "markdown",
   "metadata": {},
   "source": [
    "In 1971, economist Thomas Schelling reported an agent-based simulation study where he found that communities can become segregated in the absence of discriminatory laws, if individual households have a small preference to live beside households of similar ethnicity.\n",
    "\n",
    "<figure>\n",
    "    <img src=\"https://upload.wikimedia.org/wikipedia/commons/6/63/Thomas_Schelling.jpg\" width=200>\n",
    "    <figcaption>Thomas Schelling (1921-2016)</figcaption>\n",
    "</figure>\n",
    "\n",
    "In his simulation, Schelling placed pennies and dimes (representing households) on a grid drawn on a large piece of paper, and checked each and every coin manually to see if they are 'happy'. A coin (household) is 'happy' if at least a proportion $B$ of its eight neighbors are of the same type. Then, at every turn, 'happy' coins stay put, while 'unhappy' coins were moved to random empty sites.\n",
    "\n",
    "After running the simulation many turns, Schelling discovered that the community is well-mixed, if $B < \\frac{1}{3}$. On the other hand, if $B > \\frac{1}{3}$, the community become segregated."
   ]
  },
  {
   "cell_type": "markdown",
   "metadata": {},
   "source": [
    "## Programming the Model\n",
    "\n",
    "Today, with fast computers, we can do a simulation of Schelling's segregation model for many turns in the blink of an eye. In this exercise, let us learn how to write a Python code to do so."
   ]
  },
  {
   "cell_type": "markdown",
   "metadata": {},
   "source": [
    "First, we will need a grid with $L_x \\times L_y$ cells, on which $N < L_x L_y$ will reside."
   ]
  },
  {
   "cell_type": "code",
   "execution_count": null,
   "metadata": {},
   "outputs": [],
   "source": [
    "# import numpy\n",
    "import numpy as np\n",
    "# set Lx = Ly = L\n",
    "L = 50\n",
    "# create grid\n",
    "city = np.zeros((L,L))"
   ]
  },
  {
   "cell_type": "markdown",
   "metadata": {},
   "source": [
    "In the grid we have created, we have $L \\times L = 2500$ cells. Let us put $N_1 = 1000$ households of type 1 and $N_2 = 1000$ households of type 2 on the grid. The remaining $500$ cells will be vacant, where unhappy households can move into.\n",
    "\n",
    "To put $N_1 + N_2$ households onto the grid with no overlaps, let us shuffle the array <code>k = np.arange(L*L)</code>. Then, for each $k$, we obtain the location $(i, j)$ of the household by letting $i = k//L$ and $j = k - i*L$."
   ]
  },
  {
   "cell_type": "code",
   "execution_count": null,
   "metadata": {},
   "outputs": [],
   "source": [
    "# set N1 and N2\n",
    "N1 = 1000\n",
    "N2 = 1000\n",
    "# shuffle the array from 0 to 2499\n",
    "k = np.arange(L*L)\n",
    "np.random.shuffle(k)\n",
    "for l in range(N1):\n",
    "    i = k[l]//L\n",
    "    j = k[l] - i*L\n",
    "    city[i,j] = 1\n",
    "for l in range(N1,N1+N2):\n",
    "    i = k[l]//L\n",
    "    j = k[l] - i*L\n",
    "    city[i,j] = 2"
   ]
  },
  {
   "cell_type": "markdown",
   "metadata": {},
   "source": [
    "To see what this city is like, let us use <code>matshow()</code> in the <code>PyPlot</code> package."
   ]
  },
  {
   "cell_type": "code",
   "execution_count": null,
   "metadata": {},
   "outputs": [],
   "source": [
    "# import matplotlib\n",
    "import matplotlib.pyplot as plt\n",
    "# view the city\n",
    "plt.matshow(city)\n",
    "plt.axis('equal')\n",
    "plt.show()"
   ]
  },
  {
   "cell_type": "markdown",
   "metadata": {},
   "source": [
    "To make the simulation efficient, let us introduce two arrays, <code>vacant</code>, and <code>unhappy</code>. The array <code>vacant</code> keeps track of all the vacant sites, updating them as necessary, but will remain the same size throughout the simulation. The array <code>unhappy</code> keeps track of unhappy households. Its size can vary during the simulation, but may decrease to zero at the end of the simulation, if all households can be satisfied."
   ]
  },
  {
   "cell_type": "code",
   "execution_count": null,
   "metadata": {},
   "outputs": [],
   "source": [
    "vacant = []\n",
    "for i in range(L):\n",
    "    for j in range(L):\n",
    "        if city[i,j] == 0.0:\n",
    "            vacant.append([i,j])"
   ]
  },
  {
   "cell_type": "markdown",
   "metadata": {},
   "source": [
    "Next, because <code>unhappy</code> is tedious to compute, and because we need to compute it every turn, it is best we define a function to do it."
   ]
  },
  {
   "cell_type": "code",
   "execution_count": null,
   "metadata": {},
   "outputs": [],
   "source": [
    "def satisfaction(city, B):\n",
    "    # initialize empty unhappy array\n",
    "    unhappy = []\n",
    "    # loop through i\n",
    "    for i in range(len(city)):\n",
    "        if i == 0:\n",
    "            for j in range(len(city[i])):\n",
    "                if j == 0:\n",
    "                    if city[i,j] > 0:\n",
    "                        if (city[i,j+1] == city[i,j]) + (city[i+1,j+1] == city[i,j]) + (city[i+1,j] == city[i,j]) < B*3:\n",
    "                            unhappy.append([i,j])\n",
    "                elif j == len(city[i])-1:\n",
    "                    if city[i,j] > 0:\n",
    "                        if (city[i,j-1] == city[i,j]) + (city[i+1,j-1] == city[i,j]) + (city[i+1,j] == city[i,j]) < B*3:\n",
    "                            unhappy.append([i,j])\n",
    "                else:\n",
    "                    if city[i,j] > 0:\n",
    "                        if (city[i,j+1] == city[i,j]) + (city[i+1,j+1] == city[i,j]) + (city[i+1,j] == city[i,j]) + (city[i+1,j-1] == city[i,j]) + (city[i,j-1] == city[i,j]) < B*5:\n",
    "                            unhappy.append([i,j])\n",
    "        elif i == len(city)-1:\n",
    "            for j in range(len(city[i])):\n",
    "                if j == 0:\n",
    "                    if city[i,j] > 0:\n",
    "                        if (city[i,j+1] == city[i,j]) + (city[i-1,j+1] == city[i,j]) + (city[i-1,j] == city[i,j]) < B*3:\n",
    "                            unhappy.append([i,j])\n",
    "                elif j == len(city[i])-1:\n",
    "                    if city[i,j] > 0:\n",
    "                        if (city[i-1,j] == city[i,j]) + (city[i-1,j-1] == city[i,j]) + (city[i,j-1] == city[i,j]) < B*3:\n",
    "                            unhappy.append([i,j])\n",
    "                else:\n",
    "                    if city[i,j] > 0:\n",
    "                        if (city[i,j-1] == city[i,j]) + (city[i-1,j-1] == city[i,j]) + (city[i-1,j] == city[i,j]) + (city[i-1,j+1] == city[i,j]) + (city[i,j+1] == city[i,j]) < B*5:\n",
    "                            unhappy.append([i,j])\n",
    "        else:\n",
    "            for j in range(len(city[i])):\n",
    "                if j == 0:\n",
    "                    if city[i,j] > 0:\n",
    "                        if (city[i-1,j] == city[i,j]) + (city[i-1,j+1] == city[i,j]) + (city[i,j+1] == city[i,j]) + (city[i+1,j+1] == city[i,j]) + (city[i+1,j] == city[i,j]) < B*5:\n",
    "                            unhappy.append([i,j])\n",
    "                elif j == len(city[i])-1:\n",
    "                    if city[i,j] > 0:\n",
    "                        if (city[i+1,j] == city[i,j]) + (city[i+1,j-1] == city[i,j]) + (city[i,j-1] == city[i,j]) + (city[i-1,j-1] == city[i,j]) + (city[i-1,j] == city[i,j]) < B*5:\n",
    "                            unhappy.append([i,j])\n",
    "                else:\n",
    "                    if city[i,j] > 0:\n",
    "                        if (city[i,j+1] == city[i,j]) + (city[i+1,j+1] == city[i,j]) + (city[i+1,j] == city[i,j]) + (city[i+1,j-1] == city[i,j]) + (city[i,j-1] == city[i,j]) + (city[i-1,j-1] == city[i,j]) + (city[i-1,j] == city[i,j]) + (city[i-1,j+1] == city[i,j]) < B*8:\n",
    "                            unhappy.append([i,j])\n",
    "    return unhappy"
   ]
  },
  {
   "cell_type": "code",
   "execution_count": null,
   "metadata": {},
   "outputs": [],
   "source": [
    "unhappy = satisfaction(city, 0.2)"
   ]
  },
  {
   "cell_type": "code",
   "execution_count": null,
   "metadata": {},
   "outputs": [],
   "source": [
    "len(unhappy)"
   ]
  },
  {
   "cell_type": "markdown",
   "metadata": {},
   "source": [
    "As expected, most households are unhappy, since their initial locations were randomly assigned. To make them happy, we must allow them to move to random vacant sites. Again, since we need to do so once every turn, we will define a function to do so."
   ]
  },
  {
   "cell_type": "code",
   "execution_count": null,
   "metadata": {},
   "outputs": [],
   "source": [
    "def move(city, vacant, unhappy):\n",
    "    # in this function, we will move all unhappy households to\n",
    "    # new sites. We can always do this because once an unhappy \n",
    "    # household move away, its original site becomes vacant\n",
    "    #\n",
    "    # find number of unhappy households\n",
    "    N = len(unhappy)\n",
    "    # loop over all unhappy households\n",
    "    for n in range(N):\n",
    "        # original location of unhappy household\n",
    "        i0 = unhappy[n][0]\n",
    "        j0 = unhappy[n][1]\n",
    "        # random vacant site\n",
    "        k = np.random.randint(len(vacant))\n",
    "        # new location to move to\n",
    "        i1 = vacant[k][0]\n",
    "        j1 = vacant[k][1]\n",
    "        # update vacant site (i0,j0) -> (i1,j1)\n",
    "        vacant[k] = [i0,j0]\n",
    "        # household type\n",
    "        c = city[i0,j0]\n",
    "        # update city\n",
    "        city[i1,j1] = c\n",
    "        city[i0,j0] = 0.0\n",
    "    return city"
   ]
  },
  {
   "cell_type": "markdown",
   "metadata": {},
   "source": [
    "Let us run this function once, to see how many unhappy households we can satisfy."
   ]
  },
  {
   "cell_type": "code",
   "execution_count": null,
   "metadata": {},
   "outputs": [],
   "source": [
    "city = move(city, vacant, unhappy)"
   ]
  },
  {
   "cell_type": "markdown",
   "metadata": {},
   "source": [
    "Let us view the city after one round of moves, to see what differences they made."
   ]
  },
  {
   "cell_type": "code",
   "execution_count": null,
   "metadata": {},
   "outputs": [],
   "source": [
    "# view the city\n",
    "plt.matshow(city)\n",
    "plt.axis('equal')\n",
    "plt.show()"
   ]
  },
  {
   "cell_type": "markdown",
   "metadata": {},
   "source": [
    "We see that there were some changes, but the spatial nature of the changes is difficult to describe, so we go back to using the number of unhappy household as the figure of merit."
   ]
  },
  {
   "cell_type": "code",
   "execution_count": null,
   "metadata": {},
   "outputs": [],
   "source": [
    "unhappy = satisfaction(city, 0.2)\n",
    "len(unhappy)"
   ]
  },
  {
   "cell_type": "markdown",
   "metadata": {},
   "source": [
    "As we can see, the number of unhappy households has gone down. Therefore, allowing unhappy households to move does increase the overall happiness of the community."
   ]
  },
  {
   "cell_type": "markdown",
   "metadata": {},
   "source": [
    "## Long-Time Behavior of Schelling's Segration Model\n",
    "\n",
    "For our choice of $B = 0.2$, let us see how happy we can make the community. For example, is it possible to have zero unhappy households? Or are we going to end up with some steady-state number of unhappy households? If the latter, how large is this number?"
   ]
  },
  {
   "cell_type": "markdown",
   "metadata": {},
   "source": [
    "To answer these questions, let us simulate Schelling's segregation model over 100 time steps, and see how the number $M$ of unhappy households change."
   ]
  },
  {
   "cell_type": "code",
   "execution_count": null,
   "metadata": {},
   "outputs": [],
   "source": [
    "# initialize array to store number of unhappy households\n",
    "M = []\n",
    "# number of time steps to simulate\n",
    "T = 100\n",
    "# run simulations\n",
    "for t in range(T):\n",
    "    # find unhappy households\n",
    "    unhappy = satisfaction(city, 0.2)\n",
    "    # record number of unhappy households\n",
    "    M.append(len(unhappy))\n",
    "    # move households\n",
    "    city = move(city, vacant, unhappy)"
   ]
  },
  {
   "cell_type": "markdown",
   "metadata": {},
   "source": [
    "Let us plot $M$ against $t$:"
   ]
  },
  {
   "cell_type": "code",
   "execution_count": null,
   "metadata": {},
   "outputs": [],
   "source": [
    "plt.plot(M)\n",
    "plt.axis([0,100,1800,1830])\n",
    "plt.xlabel('t')\n",
    "plt.ylabel('number of unhappy households')\n",
    "plt.show()"
   ]
  },
  {
   "cell_type": "markdown",
   "metadata": {},
   "source": [
    "As we can see, the number of unhappy households decreases rapidly to between $1804 \\leq M \\leq 1805$ shortly after 10 iterations. Shortly before 40 iterations, the number of unhappy households remains constant at $M = 1804$. Since we have only 2000 households in the simulation, this seemed like a highly-unhappy community."
   ]
  },
  {
   "cell_type": "markdown",
   "metadata": {},
   "source": [
    "Let us also visualize the steady-state city."
   ]
  },
  {
   "cell_type": "code",
   "execution_count": null,
   "metadata": {},
   "outputs": [],
   "source": [
    "# view the city\n",
    "plt.matshow(city)\n",
    "plt.axis('equal')\n",
    "plt.show()"
   ]
  },
  {
   "cell_type": "markdown",
   "metadata": {},
   "source": [
    "As we can see, the patches appear to be larger than those seen earlier, but the community appears to be still well-mixed."
   ]
  },
  {
   "cell_type": "markdown",
   "metadata": {},
   "source": [
    "Let us run another set of simulations with $B = 0.5 > \\frac{1}{3}$, for $T = 100$ time steps, to see how different the situation will be. "
   ]
  },
  {
   "cell_type": "code",
   "execution_count": null,
   "metadata": {},
   "outputs": [],
   "source": [
    "M = []\n",
    "# run simulations\n",
    "for t in range(T):\n",
    "    # find unhappy households\n",
    "    unhappy = satisfaction(city, 0.5)\n",
    "    # record number of unhappy households\n",
    "    M.append(len(unhappy))\n",
    "    # move households\n",
    "    city = move(city, vacant, unhappy)"
   ]
  },
  {
   "cell_type": "markdown",
   "metadata": {},
   "source": [
    "If we now plot the number of unhappy households, we find that all of them are unhappy."
   ]
  },
  {
   "cell_type": "code",
   "execution_count": null,
   "metadata": {},
   "outputs": [],
   "source": [
    "plt.plot(M)\n",
    "#plt.axis([0,100,1800,1830])\n",
    "plt.xlabel('t')\n",
    "plt.ylabel('number of unhappy households')\n",
    "plt.show()"
   ]
  },
  {
   "cell_type": "markdown",
   "metadata": {},
   "source": [
    "However, if we view the city after 100 turns, we find that it should still be possible to make some households happy."
   ]
  },
  {
   "cell_type": "code",
   "execution_count": null,
   "metadata": {},
   "outputs": [],
   "source": [
    "# view the city\n",
    "plt.matshow(city)\n",
    "plt.axis('equal')\n",
    "plt.show()"
   ]
  },
  {
   "cell_type": "markdown",
   "metadata": {},
   "source": [
    "Therefore, let us run this simulation for $T = 10,000$ time steps,"
   ]
  },
  {
   "cell_type": "code",
   "execution_count": null,
   "metadata": {},
   "outputs": [],
   "source": [
    "T = 10000\n",
    "M = []\n",
    "# run simulations\n",
    "for t in range(T):\n",
    "    # find unhappy households\n",
    "    unhappy = satisfaction(city, 0.5)\n",
    "    # record number of unhappy households\n",
    "    M.append(len(unhappy))\n",
    "    # move households\n",
    "    city = move(city, vacant, unhappy)"
   ]
  },
  {
   "cell_type": "code",
   "execution_count": null,
   "metadata": {},
   "outputs": [],
   "source": [
    "plt.plot(M)\n",
    "#plt.axis([0,100,1800,1830])\n",
    "plt.xlabel('t')\n",
    "plt.ylabel('number of unhappy households')\n",
    "plt.show()"
   ]
  },
  {
   "cell_type": "code",
   "execution_count": null,
   "metadata": {},
   "outputs": [],
   "source": [
    "# view the city\n",
    "plt.matshow(city)\n",
    "plt.axis('equal')\n",
    "plt.show()"
   ]
  },
  {
   "cell_type": "markdown",
   "metadata": {},
   "source": [
    "Unfortunately, picking a random vacant site to move to is not an efficient way to make the households happy. Therefore, even after 10,000 time steps, nothing much has happened."
   ]
  },
  {
   "cell_type": "markdown",
   "metadata": {},
   "source": [
    "## Further Exercises\n",
    "\n",
    "### Simulating Schelling's Segregation Model for Different Values of $B$\n",
    "\n",
    "So far, we have simulated Schelling's segregation model for $B = 0.2$ and $B = 0.5$.\n",
    "\n",
    "In this exercise, explore other values of $B$.\n",
    "\n",
    "### Simulating Schelling's Segregation Model for Different Population Densities\n",
    "\n",
    "So far, we have simulated Schelling's segregation model for $N = 2000$, which corresponds to a population density of $N/L^2 = 2000/2500 = 0.8$.\n",
    "\n",
    "In this exercise, explore other population densities.\n",
    "\n",
    "### Understanding More Deeply the Behavior of the Schelling's Segregation Model\n",
    "\n",
    "In the two simulations we have done, at $B = 0.2$ and $B = 0.5$, we find 90\\% and nearly 100\\% of the households unhappy, for $N = 2000$ households.\n",
    "\n",
    "Choose a more reasonable population density, and systematically run simulations over the whole range of $B$. If you make $B$ very small, can you make 100\\% of the households happy? At what value of $B$ will 100\\% of the households unhappy? Is it $B = \\frac{1}{3}$ as Schelling claimed?"
   ]
  },
  {
   "cell_type": "markdown",
   "metadata": {},
   "source": [
    "## Complex Optional Exercises\n",
    "\n",
    "### More Efficient Update Schemes\n",
    "\n",
    "In the simulations shown above, we move an unhappy household to a random vacant site, without first checking whether the household will become happy.\n",
    "\n",
    "Devise an update scheme where you will first check whether the household will become happy. If it does, accept the move. Else, accept the move with a probability $p$"
   ]
  },
  {
   "cell_type": "markdown",
   "metadata": {},
   "source": [
    "### Anti-Segregation Schemes\n",
    "\n",
    "In Singapore, specific laws were introduced to prevent segregation. If the proportions of races in the population are $f_j$, $j = 1, 2, \\dots, K$ then in a given neighborhood, the proportion of households of race $j$ must be between $f_j \\pm \\delta f_j$.\n",
    "\n",
    "Develop a simulation where the happiness of households are determined by their tolerance $B$, but they are not free to move to any vacant site. Instead, the proportions after the move must satisfy the above constraints."
   ]
  },
  {
   "cell_type": "code",
   "execution_count": null,
   "metadata": {},
   "outputs": [],
   "source": []
  }
 ],
 "metadata": {
  "kernelspec": {
   "display_name": "Python 3",
   "language": "python",
   "name": "python3"
  },
  "language_info": {
   "codemirror_mode": {
    "name": "ipython",
    "version": 3
   },
   "file_extension": ".py",
   "mimetype": "text/x-python",
   "name": "python",
   "nbconvert_exporter": "python",
   "pygments_lexer": "ipython3",
   "version": "3.9.1"
  }
 },
 "nbformat": 4,
 "nbformat_minor": 4
}
