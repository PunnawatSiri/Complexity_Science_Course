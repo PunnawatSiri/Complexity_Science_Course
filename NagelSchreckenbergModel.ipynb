{
 "cells": [
  {
   "cell_type": "markdown",
   "metadata": {},
   "source": [
    "# Nagel-Schreckenberg Cellular Automata Model of Vehicular Traffic\n",
    "\n",
    "After watching the traffic jam experiment done by the Japanese researchers, let us learn about a simple model of vehicular traffic that would reproduce salient features of the experiment.\n",
    "\n",
    "This is a cellular automata model introduced by Kai Nagel and Michael Schreckenberg in 1992.\n",
    "\n",
    "<figure>\n",
    "    <img src=\"https://upload.wikimedia.org/wikipedia/commons/thumb/b/b5/Kainagel.jpg/440px-Kainagel.jpg\" width=200>\n",
    "    <figcaption>Kai Nagel</figcaption>\n",
    "</figure>\n",
    "\n",
    "<figure>\n",
    "    <img src=\"https://www.uni-due.de/imperia/md/images/ptt/arbeitsgruppe/fittosize__1200_0_8fe8aeb0c2cf56b90e6ab152d8b06af9_schreckenberg_500n.jpg\" width=200>\n",
    "    <figcaption>Michael Schreckenberg</figcaption>\n",
    "<figure>"
   ]
  },
  {
   "cell_type": "markdown",
   "metadata": {},
   "source": [
    "In the Nagel-Schreckenberg (NS) model, a one-lane unidirectional road is divided into <em>cells</em> that are each between 6.0 m and 7.5 m long. Under safe driving conditions, each cell can only accommodate a single vehicle. In the simplest NS model, we do not distinguish between cars, buses, vans, or trucks. All vehicles are the same, and can have speeds $v = 0, 1, \\dots, v_{\\max}$. For the NS model to reproduce the Japanese experiment qualitatively, all we need is $v_{\\max} = 2$.\n",
    "\n",
    "Suppose at one instant in time $t$, we find $N < L$ vehicles along the road with $L$ cells. Suppose further that vehicle $0 \\leq i \\leq N-1$ is in the $(0 \\leq x_i(t) \\leq L-1)$th cell, and its instantaneous velocity is $0 \\leq v_i(t) \\leq v_{\\max}$. Then the rules for updating the NS model are:\n",
    "<ol>\n",
    "    <li> <b>acceleration.</b> If $v_i(t) < v_{\\max}$, $v_i(t) = v_i(t) + 1$;\n",
    "    <li> <b>slowing down.</b> If vehicle $j$ is the vehicle just ahead of vehicle $i$, and $x_j(t) - x_i(t) \\leq v_i(t)$, reduce the speed of vehicle $i$ to $v_i(t) = x_j(t) - x_i(t) - 1$ to avoid a collision;\n",
    "    <li> <b>randomization.</b> If $v_i(t) > 0$, reduce the speed of vehicle $i$ to $v_i(t) = v_i(t) - 1$ with probability $p$;\n",
    "    <li> <b>vehicle motion.</b> Move all vehicles forward, so that $x_i(t+1) = x_i(t) + v_i(t)$.\n",
    "</ol>"
   ]
  },
  {
   "cell_type": "markdown",
   "metadata": {},
   "source": [
    "The simplest way to simulate the NS model is to keep a list of the $N$ vehicles. But before we create this list of vehicles, let us specify the length of the road as:"
   ]
  },
  {
   "cell_type": "code",
   "execution_count": 1,
   "metadata": {},
   "outputs": [],
   "source": [
    "#Add seed\n",
    "import random\n",
    "random.seed(42)"
   ]
  },
  {
   "cell_type": "code",
   "execution_count": 2,
   "metadata": {},
   "outputs": [],
   "source": [
    "# length of road\n",
    "L = 100"
   ]
  },
  {
   "cell_type": "markdown",
   "metadata": {},
   "source": [
    "Next, we specify the number of vehicles we want to simulate."
   ]
  },
  {
   "cell_type": "code",
   "execution_count": 3,
   "metadata": {},
   "outputs": [],
   "source": [
    "# number of vehicles\n",
    "N = 25"
   ]
  },
  {
   "cell_type": "markdown",
   "metadata": {},
   "source": [
    "Now, we can create the list of vehicles, at random positions along the road, and with random speeds.\n",
    "\n",
    "However, if we do this by assigning the $N$ vehicles random positions, some vehicles might overlap. This would pose problems for the simulation.\n",
    "\n",
    "Therefore, a safer way to initialize the positions of the $N$ vehicles is to start with $N$ gaps (the first gap being the gap between vehicle $i=0$ and cell $x = 0$ of the road). These gaps can be $1, 2, \\dots, \\lfloor L/N \\rfloor$, so that no vehicle would have a position beyond the $L$ cells of the road."
   ]
  },
  {
   "cell_type": "code",
   "execution_count": 99,
   "metadata": {},
   "outputs": [
    {
     "name": "stdout",
     "output_type": "stream",
     "text": [
      "Gaps [2, 4, 1, 1, 3, 1, 2, 2, 4, 3, 3, 3, 1, 3, 2, 2, 2, 3, 1, 4, 2, 3, 3, 1, 3]\n",
      "Positions [2, 6, 7, 8, 11, 12, 14, 16, 20, 23, 26, 29, 30, 33, 35, 37, 39, 42, 43, 47, 49, 52, 55, 56, 59]\n",
      "Velocities [0, 0, 0, 1, 1, 1, 0, 1, 1, 2, 0, 0, 0, 1, 1, 2, 2, 2, 2, 1, 2, 2, 2, 0, 2]\n"
     ]
    },
    {
     "data": {
      "image/png": "[encoded data removed]",
      "text/plain": [
       "<Figure size 1000x100 with 2 Axes>"
      ]
     },
     "metadata": {},
     "output_type": "display_data"
    }
   ],
   "source": [
    "# import numpy\n",
    "import numpy as np\n",
    "import matplotlib.pyplot as plt\n",
    "\n",
    "# create list of gaps\n",
    "# set vmax\n",
    "vmax = 2\n",
    "\n",
    "def get_gaps_pos_vel(L, N, vmax):\n",
    "    gaps = [ np.random.randint(1, 1 + L//N) for i in range(N) ]\n",
    "    print(\"Gaps\",gaps)\n",
    "\n",
    "    # create list of positions\n",
    "    pos = [ 0 for i in range(N) ]\n",
    "    pos[0] = gaps[0]\n",
    "    for i in range(1, N):\n",
    "        pos[i] = pos[i-1] + gaps[i]\n",
    "    print(\"Positions\", pos)\n",
    "    # create list of velocities\n",
    "    vel = [ np.random.randint(0, vmax+1) for i in range(N) ]\n",
    "    print(\"Velocities\", vel)\n",
    "    return gaps,pos,vel\n",
    "\n",
    "def show_(gaps,pos,vel,start_point=0,end_point=L):\n",
    "        # plot the positions, make a squre\n",
    "    plt.figure(figsize=(10,1))\n",
    "    # make a scatter plot has gradient color base on velocity\n",
    "    plt.scatter(pos, [0]*N, c=vel, cmap='inferno', marker='s')\n",
    "    # add color bar\n",
    "    plt.colorbar()\n",
    "    # black background\n",
    "    plt.gca().set_facecolor('grey')\n",
    "    #create vetical grid lines\n",
    "    plt.grid(axis='x')\n",
    "    # set y limit with only in teger gap\n",
    "    plt.yticks([0], [0])\n",
    "    plt.xlim(start_point, end_point)\n",
    "    plt.show()\n",
    "\n",
    "    \n",
    "gaps,pos,vel = get_gaps_pos_vel(L, N, vmax)\n",
    "show_(gaps,pos,vel)\n"
   ]
  },
  {
   "cell_type": "markdown",
   "metadata": {},
   "source": [
    "Another advantage of creating the positions this way, is that we know by default that the vehicle ahead of vehicle $i$ is vehicle $i+1$.\n",
    "\n",
    "Let us see what we have right now."
   ]
  },
  {
   "cell_type": "code",
   "execution_count": 100,
   "metadata": {},
   "outputs": [
    {
     "name": "stdout",
     "output_type": "stream",
     "text": [
      "i\t x[i]\t v[i]\n",
      "0\t2\t0\n",
      "1\t6\t0\n",
      "2\t7\t0\n",
      "3\t8\t1\n",
      "4\t11\t1\n",
      "5\t12\t1\n",
      "6\t14\t0\n",
      "7\t16\t1\n",
      "8\t20\t1\n",
      "9\t23\t2\n",
      "10\t26\t0\n",
      "11\t29\t0\n",
      "12\t30\t0\n",
      "13\t33\t1\n",
      "14\t35\t1\n",
      "15\t37\t2\n",
      "16\t39\t2\n",
      "17\t42\t2\n",
      "18\t43\t2\n",
      "19\t47\t1\n",
      "20\t49\t2\n",
      "21\t52\t2\n",
      "22\t55\t2\n",
      "23\t56\t0\n",
      "24\t59\t2\n"
     ]
    }
   ],
   "source": [
    "print('i\\t x[i]\\t v[i]')\n",
    "for i in range(N):\n",
    "    print(repr(i) + '\\t' + repr(pos[i]) + '\\t' + repr(vel[i]))"
   ]
  },
  {
   "cell_type": "markdown",
   "metadata": {},
   "source": [
    "To get familiar with the update rules, let us simulate the NS model for a single time step. To do this, we loop over the vehicles, and overwrite the arrays <code>pos</code> and <code>vel</code>, one rule at a time."
   ]
  },
  {
   "cell_type": "code",
   "execution_count": 101,
   "metadata": {},
   "outputs": [
    {
     "data": {
      "image/png": "[encoded data removed]",
      "text/plain": [
       "<Figure size 1000x100 with 2 Axes>"
      ]
     },
     "metadata": {},
     "output_type": "display_data"
    },
    {
     "data": {
      "image/png": "[encoded data removed]",
      "text/plain": [
       "<Figure size 1000x100 with 2 Axes>"
      ]
     },
     "metadata": {},
     "output_type": "display_data"
    }
   ],
   "source": [
    "# specify p\n",
    "p = 0.2\n",
    "# for-loop over vehicles\n",
    "show_(gaps,pos,vel)\n",
    "def step_(gaps,pos,vel,L,N,p):\n",
    "    for i in range(N):\n",
    "        # acceleration\n",
    "        if vel[i] < vmax:\n",
    "            vel[i] = vel[i] + 1\n",
    "        # slowing down\n",
    "        if i < N-1: \n",
    "            if vel[i] >= pos[i+1] - pos[i]: \n",
    "                vel[i] = pos[i+1] - pos[i] - 1\n",
    "        # impose periodic boundary condition on velocities\n",
    "        else:\n",
    "            if vel[i] >= (L - pos[i] - 1) + pos[0]:\n",
    "                vel[i] = (L - pos[i] - 1) + pos[0] - 1\n",
    "        # random deceleration\n",
    "        if vel[i] >= 1:\n",
    "            if np.random.rand() < p:\n",
    "                vel[i] = vel[i] - 1\n",
    "        # move vehicles\n",
    "        pos[i] = pos[i] + vel[i]\n",
    "        # impose periodic boundary condition on positions\n",
    "        if pos[N-1] >= L:\n",
    "            newpos0 = pos.pop(N-1)\n",
    "            newvel0 = vel.pop(N-1)\n",
    "            pos.insert(0, newpos0-L)\n",
    "            vel.insert(0, newvel0)\n",
    "    return gaps,pos,vel\n",
    "geps,pos,vel = step_(gaps,pos,vel,L,N,p)\n",
    "show_(gaps,pos,vel)\n"
   ]
  },
  {
   "cell_type": "markdown",
   "metadata": {},
   "source": [
    "Let us now see whether we have implemented the update rules correctly."
   ]
  },
  {
   "cell_type": "code",
   "execution_count": 102,
   "metadata": {},
   "outputs": [
    {
     "name": "stdout",
     "output_type": "stream",
     "text": [
      "i\t x[i]\t v[i]\n",
      "0\t3\t1\n",
      "1\t6\t0\n",
      "2\t7\t0\n",
      "3\t10\t2\n",
      "4\t11\t0\n",
      "5\t13\t1\n",
      "6\t15\t1\n",
      "7\t17\t1\n",
      "8\t21\t1\n",
      "9\t24\t1\n",
      "10\t26\t0\n",
      "11\t29\t0\n",
      "12\t30\t0\n",
      "13\t34\t1\n",
      "14\t36\t1\n",
      "15\t37\t0\n",
      "16\t41\t2\n",
      "17\t42\t0\n",
      "18\t45\t2\n",
      "19\t48\t1\n",
      "20\t51\t2\n",
      "21\t54\t2\n",
      "22\t55\t0\n",
      "23\t56\t0\n",
      "24\t61\t2\n"
     ]
    }
   ],
   "source": [
    "print('i\\t x[i]\\t v[i]')\n",
    "for i in range(N):\n",
    "    print(repr(i) + '\\t' + repr(pos[i]) + '\\t' + repr(vel[i]))"
   ]
  },
  {
   "cell_type": "markdown",
   "metadata": {},
   "source": [
    "Before we go on to run longer simulations of the NS model, let us find a better way to visualize the traffic situation, instead of printing out the positions and velocities of the vehicles every time step.\n",
    "\n",
    "Ultimately, we would not be showing the traffic situation at one time step, but would be showing the traffic over the entire simulation as a space-time diagram.\n",
    "\n",
    "Before we can do this, we have to import the PyPlot module."
   ]
  },
  {
   "cell_type": "code",
   "execution_count": 75,
   "metadata": {},
   "outputs": [],
   "source": [
    "# import matplotlib.pyplot\n",
    "import matplotlib.pyplot as plt"
   ]
  },
  {
   "cell_type": "markdown",
   "metadata": {},
   "source": [
    "To plot the space-time diagram, we will use the <code>matshow()</code> function in PyPlot. The function <code>matshow()</code> takes a two-dimensional array as input. Therefore, after setting the number of time steps to simulate, we initialize the array <code>traffic</code> that would become the input of <code>matshow()</code>."
   ]
  },
  {
   "cell_type": "code",
   "execution_count": 76,
   "metadata": {},
   "outputs": [
    {
     "name": "stdout",
     "output_type": "stream",
     "text": [
      "50 100\n"
     ]
    }
   ],
   "source": [
    "# set number of time steps to simulate\n",
    "T = 50\n",
    "# initialize traffic array\n",
    "traffic = np.zeros((T,L))\n",
    "print(T,L) #T=row, L=column"
   ]
  },
  {
   "cell_type": "markdown",
   "metadata": {},
   "source": [
    "Thereafter, we start a for-loop over the time steps, and within it a for-loop over the vehicles, to simulate the NS model. At the start of time step $t$, for vehicle $i$ at $x_i$, with velocity $v_i$, we will do the following:\n",
    "<ol>\n",
    "    <li> set <code>traffic[t, pos[i]] = 1</code> if $v_i = 0$;\n",
    "    <li> set <code>traffic[t, pos[i]] = 2</code> if $v_i = 1$; and\n",
    "    <li> set <code>traffic[t, pos[i]] = 3</code> if $v_i = 2$.\n",
    "</ol>"
   ]
  },
  {
   "cell_type": "code",
   "execution_count": 77,
   "metadata": {},
   "outputs": [],
   "source": [
    "# simulation proper\n",
    "for t in range(T):\n",
    "    # draw to traffic array\n",
    "    geps,pos,vel = step_(gaps,pos,vel,L,N,p)\n",
    "\n",
    "    for i in range(N):\n",
    "        if vel[i] == 0:\n",
    "            traffic[t, pos[i]] = 1\n",
    "        elif vel[i] == 1:\n",
    "            traffic[t, pos[i]] = 2\n",
    "        else:\n",
    "            traffic[t, pos[i]] = 3\n",
    "    # update traffic\n",
    "    for i in range(N):\n",
    "        # acceleration\n",
    "        if vel[i] < vmax:\n",
    "            vel[i] = vel[i] + 1\n",
    "        # slowing down\n",
    "        if i < N-1:\n",
    "            if vel[i] >= pos[i+1] - pos[i]:\n",
    "                vel[i] = pos[i+1] - pos[i] - 1\n",
    "        # impose periodic boundary condition on velocities\n",
    "        else:\n",
    "            if vel[i] >= (L - pos[i] - 1) + pos[0]:\n",
    "                vel[i] = (L - pos[i] - 1) + pos[0] - 1\n",
    "        # random deceleration\n",
    "        if vel[i] >= 1:\n",
    "            if np.random.rand() < p:\n",
    "                vel[i] = vel[i] - 1\n",
    "        # move vehicles\n",
    "        pos[i] = pos[i] + vel[i]\n",
    "        # impose periodic boundary condition on positions\n",
    "        if pos[N-1] >= L:\n",
    "            newpos0 = pos.pop(N-1)\n",
    "            newvel0 = vel.pop(N-1)\n",
    "            pos.insert(0, newpos0-L)\n",
    "            vel.insert(0, newvel0)"
   ]
  },
  {
   "cell_type": "markdown",
   "metadata": {},
   "source": [
    "Now that the simulation has been successfully completed, let us show the space-time diagram."
   ]
  },
  {
   "cell_type": "code",
   "execution_count": 78,
   "metadata": {},
   "outputs": [
    {
     "data": {
      "image/png": "[encoded data removed]",
      "text/plain": [
       "<Figure size 960x480 with 2 Axes>"
      ]
     },
     "metadata": {},
     "output_type": "display_data"
    }
   ],
   "source": [
    "#set figure size\n",
    "plt.matshow(traffic, cmap='inferno', aspect='auto')\n",
    "#make color bar exact with the value and no contour\n",
    "plt.colorbar(ticks=[0,1,2,3])\n",
    "plt.axis('equal')\n",
    "#reverse x axis\n",
    "plt.xlabel('Length of road')\n",
    "plt.ylabel('Time (reversed)')\n",
    "plt.show()"
   ]
  },
  {
   "cell_type": "code",
   "execution_count": null,
   "metadata": {},
   "outputs": [],
   "source": [
    "#plot a interactive plot from traffic\n"
   ]
  },
  {
   "cell_type": "markdown",
   "metadata": {},
   "source": [
    "As we can see,\n",
    "<ol>\n",
    "    <li> yellow cells represent vehicles moving at $v_{\\max} = 2$;\n",
    "    <li> some yellow cells become green ($v_i = 1$) because of random deceleration;\n",
    "    <li> traffic jams (consisting of bunches of vehicles with zero velocity) form behind regions with too many random decelerations.\n",
    "</ol>"
   ]
  },
  {
   "cell_type": "markdown",
   "metadata": {},
   "source": [
    "# Additional Exercises"
   ]
  },
  {
   "cell_type": "markdown",
   "metadata": {},
   "source": [
    "## Simulations at Different Densities\n",
    "\n",
    "In the above simulation, we have $N = 25$ vehicles over a road with $L = 100$.\n",
    "\n",
    "You should plot the space-time diagrams for simulations at different densities $N/L$ to gain an intuition into the behavior of the NS model."
   ]
  },
  {
   "cell_type": "markdown",
   "metadata": {},
   "source": [
    "## Simulations with Different $v_{\\max}$\n",
    "\n",
    "In the above simulation, we used $v_{\\max} = 2$.\n",
    "\n",
    "Run simulations with other values of $v_{\\max}$, to better understand the behavior of the NS model."
   ]
  },
  {
   "cell_type": "markdown",
   "metadata": {},
   "source": [
    "## Plotting the Fundamental Diagram\n",
    "\n",
    "Choose a smaller region within the road, say $0 \\leq x \\leq 20$, as your measurement region.\n",
    "\n",
    "Every 20 time steps, compute the density $\\rho$, which is the number of vehicles in this region divided by 20, and the average velocity $\\bar{v}$ over all vehicles in this region.\n",
    "\n",
    "Collect a large number of points $(\\rho, \\bar{v})$, and plot the scatter diagram of $\\bar{v}$ against $\\rho$. This is called the fundamental diagram of vehicular traffic."
   ]
  },
  {
   "cell_type": "markdown",
   "metadata": {},
   "source": [
    "# Further Explorations"
   ]
  },
  {
   "cell_type": "markdown",
   "metadata": {},
   "source": [
    "## Two Lanes and Overtaking\n",
    "\n",
    "Most roads have more than one lane, and allows overtaking to occur.\n",
    "\n",
    "Think about how you would modify the simplest NS model shown here, so that you can simulate two-lane vehicular traffic.\n",
    "\n",
    "Besides the additional complication for specifying the positions of vehicles, you will also need to add new rules, so that a vehicle can make use of the second lane to overtake another vehicle."
   ]
  },
  {
   "cell_type": "markdown",
   "metadata": {},
   "source": [
    "## City Traffic and Traffic Lights\n",
    "\n",
    "In this session, we have only discussed vehicular traffic in 1D. Naturally, in a city, vehicular traffic is 2D, on a grid of criss-crossing roads.\n",
    "\n",
    "Besides this challenge to programming the NS model, city traffic is also frequently regulated by traffic lights. Again, think of the rules you need to perform city traffic simulations."
   ]
  },
  {
   "cell_type": "code",
   "execution_count": null,
   "metadata": {},
   "outputs": [],
   "source": []
  }
 ],
 "metadata": {
  "kernelspec": {
   "display_name": "Python 3",
   "language": "python",
   "name": "python3"
  },
  "language_info": {
   "codemirror_mode": {
    "name": "ipython",
    "version": 3
   },
   "file_extension": ".py",
   "mimetype": "text/x-python",
   "name": "python",
   "nbconvert_exporter": "python",
   "pygments_lexer": "ipython3",
   "version": "3.8.16"
  }
 },
 "nbformat": 4,
 "nbformat_minor": 4
}
