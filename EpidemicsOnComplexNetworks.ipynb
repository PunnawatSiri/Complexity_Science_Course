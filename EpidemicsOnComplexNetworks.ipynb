{
  "cells": [
    {
      "cell_type": "markdown",
      "metadata": {
        "id": "view-in-github",
        "colab_type": "text"
      },
      "source": [
        "<a href=\"https://colab.research.google.com/github/PunnawatSiri/Complexity_Science_Course/blob/main/EpidemicsOnComplexNetworks.ipynb\" target=\"_parent\"><img src=\"https://colab.research.google.com/assets/colab-badge.svg\" alt=\"Open In Colab\"/></a>"
      ]
    },
    {
      "cell_type": "markdown",
      "metadata": {
        "id": "tYGL-hR3lLJA"
      },
      "source": [
        "# Epidemics on Complex Networks\n",
        "\n",
        "In 1916 and 1917, Ronald Ross and Hilda Hudson published the first mathematical study of epidemics.\n",
        "\n",
        "<table>\n",
        "    <tr>\n",
        "        <th>\n",
        "            <figure>\n",
        "                <img src=\"https://upload.wikimedia.org/wikipedia/commons/thumb/7/76/Ronald_Ross.jpg/440px-Ronald_Ross.jpg\" width=200>\n",
        "                <figcaption>Sir Ronald Ross (1857-1932) </figcaption>\n",
        "            </figure>\n",
        "        </th>\n",
        "        <th>\n",
        "            <figure>\n",
        "                <img src=\"https://upload.wikimedia.org/wikipedia/en/e/e3/Hilda_Phoebe_Hudson.jpeg\" width=200>\n",
        "                <figcaption>Hilda Hudson (1881-1965)</figcaption>\n",
        "            </figure>\n",
        "        </th>\n",
        "    </tr>\n",
        "</table>\n",
        "\n",
        "However, in their study they treated the infection process as probabilistic.\n",
        "\n",
        "In 1927, McKendrick and Kermack wrote down a simpler, ordinary differential equation model of epidemics. This eventually became known as the <em>SIR model</em>. In the SIR model, a total population of $N$ individuals is divided into three subpopulations, or compartments. First, there are $S$ individuals who are not yet infected, but are susceptible to infection in the future. Next, there are $I$ individuals who are infected, and can pass on the infection to susceptible individuals. Finally, there are $R$ individuals who were infected, and has recovered (or died). These $R$ individuals can no longer infect others, and cannot be infected a second time.\n",
        "\n",
        "<table>\n",
        "    <tr>\n",
        "        <th>\n",
        "            <figure>\n",
        "                <img src=\"https://mathshistory.st-andrews.ac.uk/Biographies/McKendrick/McKendrick.jpeg\" width=200>\n",
        "                <figcaption>Anderson Gray McKendrick (1876-1943) </figcaption>\n",
        "            </figure>\n",
        "        </th>\n",
        "        <th>\n",
        "            <figure>\n",
        "                <img src=\"https://encrypted-tbn0.gstatic.com/images?q=tbn:ANd9GcQdpDdJ28aFLfAQQQrcrNE5U3vIsERloWCo5dgwflYUYXlJ8Gnup8YfS7d9MLB4OADQECA&usqp=CAU\" width=200>\n",
        "                <figcaption>William Kermack (1898-1970)</figcaption>\n",
        "            </figure>\n",
        "        </th>\n",
        "    </tr>\n",
        "</table>\n",
        "\n",
        "These subpopulations change with time with rates $dS/dt$, $dI/dt$, and $dR/dt$, and are given by\n",
        "\\begin{align}\n",
        "\\frac{dS}{dt} &= -\\beta S(t) I(t), \\\\\n",
        "\\frac{dI}{dt} &= +\\beta S(t) I(t) - \\gamma I(t), \\\\\n",
        "\\frac{dR}{dt} &= +\\gamma I(t).\n",
        "\\end{align}\n",
        "\n",
        "If we add the three equations together, we find that\n",
        "\\begin{equation}\n",
        "\\frac{dS}{dt} + \\frac{dI}{dt} + \\frac{dR}{dt} = 0,\n",
        "\\end{equation}\n",
        "because $S + I + R = N$ remains constant over time.\n",
        "\n",
        "As we can see, this model of epidemics is written in terms of ordinary differential equations, where we assume that $S(t)$, $I(t)$, and $R(t)$ are continuous variables, instead of integers. This is a useful approximation when the total population $N$ is large compared to the changes $\\Delta S(t)$, $\\Delta I(t)$, and $\\Delta R(t)$.\n",
        "\n",
        "After the SIR model was written down, more epidemic models were invented. For example, for diseases where infected individuals do not recover (such as in malaria), we omit the $-\\gamma I(t)$ term and $R(t)$ to obtain the SI model. Also, susceptible individuals coming into contact with infected individuals do not become infectious immediately, but only become so after a period of time. We call these individuals <em>exposed</em>, and there are $E(t)$ of them at time $t$. The modifed model is called the SEIR model."
      ]
    },
    {
      "cell_type": "markdown",
      "metadata": {
        "id": "R2VILNMolLJD"
      },
      "source": [
        "In ODE models like the SIR model, we assume that $S(t)$, $I(t)$, and $R(t)$ can change continuously, and that all three types of individuals mixed thoroughly with each other. However, in a real community, we mix only with people we know, or live close to us, while people who live far away will mix only with people they know, or live close to them. More importantly, some people mix only with a few people, because these are all whom they know, whereas others mix with many people. Therefore, the basis for understanding disease transmission should be on a complex network."
      ]
    },
    {
      "cell_type": "markdown",
      "metadata": {
        "id": "x3CaGbcOlLJE"
      },
      "source": [
        "## Creating a Random Network\n",
        "\n",
        "We can simulate epidemics spreading on different types of networks. For this exercise, let us do so on a random network (also known as a Erdos-Renyi network) with $N = 100$ nodes. In a Erdos-Renyi network, the $N(N-1)/2$ pairs of nodes are connected with probability $p = 0.1$."
      ]
    },
    {
      "cell_type": "markdown",
      "metadata": {
        "id": "mP3sb7hDlLJF"
      },
      "source": [
        "First, we load the <code>networkx</code> module, for creating networks, and the <code>matplotlib</code> module, for plotting them. We also import the <code>forceatlas2</code> module for laying out the network for better visualization."
      ]
    },
    {
      "cell_type": "code",
      "source": [],
      "metadata": {
        "id": "eNecAcrMyPhD"
      },
      "execution_count": null,
      "outputs": []
    },
    {
      "cell_type": "code",
      "source": [
        "# !git clone https://github.com/bhargavchippada/forceatlas2.git\n",
        "cd forceatlas2/\n",
        "!python setup.py install\n",
        "cd -"
      ],
      "metadata": {
        "id": "1sa6HhcFmfIK",
        "outputId": "f0116aba-8305-4f1a-f16d-0f0d0ab5aa2e",
        "colab": {
          "base_uri": "https://localhost:8080/"
        }
      },
      "execution_count": 16,
      "outputs": [
        {
          "output_type": "stream",
          "name": "stdout",
          "text": [
            "Installing fa2 package (fastest forceatlas2 python implementation)\n",
            "\n",
            ">>>> Cython is installed?\n",
            "Yes\n",
            "\n",
            ">>>> Starting to install!\n",
            "\n",
            "running install\n",
            "/usr/local/lib/python3.10/dist-packages/setuptools/_distutils/cmd.py:66: SetuptoolsDeprecationWarning: setup.py install is deprecated.\n",
            "!!\n",
            "\n",
            "        ********************************************************************************\n",
            "        Please avoid running ``setup.py`` directly.\n",
            "        Instead, use pypa/build, pypa/installer, pypa/build or\n",
            "        other standards-based tools.\n",
            "\n",
            "        See https://blog.ganssle.io/articles/2021/10/setup-py-deprecated.html for details.\n",
            "        ********************************************************************************\n",
            "\n",
            "!!\n",
            "  self.initialize_options()\n",
            "/usr/local/lib/python3.10/dist-packages/setuptools/_distutils/cmd.py:66: EasyInstallDeprecationWarning: easy_install command is deprecated.\n",
            "!!\n",
            "\n",
            "        ********************************************************************************\n",
            "        Please avoid running ``setup.py`` and ``easy_install``.\n",
            "        Instead, use pypa/build, pypa/installer, pypa/build or\n",
            "        other standards-based tools.\n",
            "\n",
            "        See https://github.com/pypa/setuptools/issues/917 for details.\n",
            "        ********************************************************************************\n",
            "\n",
            "!!\n",
            "  self.initialize_options()\n",
            "running bdist_egg\n",
            "running egg_info\n",
            "creating fa2.egg-info\n",
            "writing fa2.egg-info/PKG-INFO\n",
            "writing dependency_links to fa2.egg-info/dependency_links.txt\n",
            "writing requirements to fa2.egg-info/requires.txt\n",
            "writing top-level names to fa2.egg-info/top_level.txt\n",
            "writing manifest file 'fa2.egg-info/SOURCES.txt'\n",
            "reading manifest file 'fa2.egg-info/SOURCES.txt'\n",
            "reading manifest template 'MANIFEST.in'\n",
            "adding license file 'LICENSE'\n",
            "writing manifest file 'fa2.egg-info/SOURCES.txt'\n",
            "installing library code to build/bdist.linux-x86_64/egg\n",
            "running install_lib\n",
            "running build_py\n",
            "creating build\n",
            "creating build/lib.linux-x86_64-cpython-310\n",
            "creating build/lib.linux-x86_64-cpython-310/fa2\n",
            "copying fa2/forceatlas2.py -> build/lib.linux-x86_64-cpython-310/fa2\n",
            "copying fa2/__init__.py -> build/lib.linux-x86_64-cpython-310/fa2\n",
            "copying fa2/fa2util.py -> build/lib.linux-x86_64-cpython-310/fa2\n",
            "copying fa2/fa2util.c -> build/lib.linux-x86_64-cpython-310/fa2\n",
            "copying fa2/fa2util.pxd -> build/lib.linux-x86_64-cpython-310/fa2\n",
            "running build_ext\n",
            "Compiling fa2/fa2util.py because it changed.\n",
            "[1/1] Cythonizing fa2/fa2util.py\n",
            "building 'fa2.fa2util' extension\n",
            "error: unknown file type '.pxd' (from 'fa2/fa2util.pxd')\n"
          ]
        }
      ]
    },
    {
      "cell_type": "code",
      "execution_count": 36,
      "metadata": {
        "id": "fYcFSlvmlLJG"
      },
      "outputs": [],
      "source": [
        "# load modules\n",
        "import networkx as nx\n",
        "import matplotlib.pyplot as plt\n",
        "from forceatlas2.fa2 import forceatlas2"
      ]
    },
    {
      "cell_type": "markdown",
      "metadata": {
        "id": "4oGbXVWglLJH"
      },
      "source": [
        "Next, we set the number of nodes $N$, and the probability $p$, to invoke the <code>networkx</code> function <code>binomial_graph()</code>, which generates an Erdos-Renyi network with $N$ nodes, and create links between these nodes with probability $p$."
      ]
    },
    {
      "cell_type": "code",
      "execution_count": 20,
      "metadata": {
        "id": "wA-tYl8AlLJI"
      },
      "outputs": [],
      "source": [
        "# set number of nodes\n",
        "N = 100\n",
        "# set probability parameter\n",
        "p = 0.1"
      ]
    },
    {
      "cell_type": "code",
      "execution_count": 21,
      "metadata": {
        "id": "2PrN4om9lLJI"
      },
      "outputs": [],
      "source": [
        "G = nx.binomial_graph(N, p)"
      ]
    },
    {
      "cell_type": "markdown",
      "metadata": {
        "id": "3yAiF6GFlLJJ"
      },
      "source": [
        "The network <code>G</code> that we have just created is unweighted and undirected. Let us use the <code>draw()</code> function in <code>networkx</code> to visualize the network."
      ]
    },
    {
      "cell_type": "code",
      "execution_count": 22,
      "metadata": {
        "id": "VeeWBf7qlLJL",
        "outputId": "ccf0151f-7bc7-4f54-b605-1f88bec078bf",
        "colab": {
          "base_uri": "https://localhost:8080/",
          "height": 516
        }
      },
      "outputs": [
        {
          "output_type": "display_data",
          "data": {
            "text/plain": [
              "<Figure size 640x480 with 1 Axes>"
            ],
            "image/png": "[encoded data removed]"
          },
          "metadata": {}
        }
      ],
      "source": [
        "nx.draw(G)"
      ]
    },
    {
      "cell_type": "markdown",
      "metadata": {
        "id": "Cgz7vFKSlLJL"
      },
      "source": [
        "By default, this layout is random. Let us now learn how to use <code>forceatlas2</code> to beautify the layout."
      ]
    },
    {
      "cell_type": "code",
      "execution_count": 37,
      "metadata": {
        "id": "0yy0REQElLJM",
        "outputId": "6d0cb62c-63a1-4283-a954-fdcecd4a726c",
        "colab": {
          "base_uri": "https://localhost:8080/",
          "height": 176
        }
      },
      "outputs": [
        {
          "output_type": "error",
          "ename": "AttributeError",
          "evalue": "module 'forceatlas2.fa2.forceatlas2' has no attribute 'forceatlas2_networkx_layout'",
          "traceback": [
            "\u001b[0;31m---------------------------------------------------------------------------\u001b[0m",
            "\u001b[0;31mAttributeError\u001b[0m                            Traceback (most recent call last)",
            "\u001b[0;32m<ipython-input-37-0055b167de1c>\u001b[0m in \u001b[0;36m<cell line: 2>\u001b[0;34m()\u001b[0m\n\u001b[1;32m      1\u001b[0m \u001b[0mpos\u001b[0m \u001b[0;34m=\u001b[0m \u001b[0mnx\u001b[0m\u001b[0;34m.\u001b[0m\u001b[0mrandom_layout\u001b[0m\u001b[0;34m(\u001b[0m\u001b[0mG\u001b[0m\u001b[0;34m)\u001b[0m\u001b[0;34m\u001b[0m\u001b[0;34m\u001b[0m\u001b[0m\n\u001b[0;32m----> 2\u001b[0;31m \u001b[0mpos\u001b[0m \u001b[0;34m=\u001b[0m \u001b[0mforceatlas2\u001b[0m\u001b[0;34m.\u001b[0m\u001b[0mforceatlas2_networkx_layout\u001b[0m\u001b[0;34m(\u001b[0m\u001b[0mG\u001b[0m\u001b[0;34m,\u001b[0m \u001b[0mpos\u001b[0m\u001b[0;34m,\u001b[0m \u001b[0mniter\u001b[0m\u001b[0;34m=\u001b[0m\u001b[0;36m1000\u001b[0m\u001b[0;34m)\u001b[0m\u001b[0;34m\u001b[0m\u001b[0;34m\u001b[0m\u001b[0m\n\u001b[0m\u001b[1;32m      3\u001b[0m \u001b[0mnx\u001b[0m\u001b[0;34m.\u001b[0m\u001b[0mdraw\u001b[0m\u001b[0;34m(\u001b[0m\u001b[0mG\u001b[0m\u001b[0;34m,\u001b[0m \u001b[0mpos\u001b[0m\u001b[0;34m)\u001b[0m\u001b[0;34m\u001b[0m\u001b[0;34m\u001b[0m\u001b[0m\n",
            "\u001b[0;31mAttributeError\u001b[0m: module 'forceatlas2.fa2.forceatlas2' has no attribute 'forceatlas2_networkx_layout'"
          ]
        }
      ],
      "source": [
        "pos = nx.random_layout(G)\n",
        "pos = forceatlas2.forceatlas2_networkx_layout(G, pos, niter=1000)\n",
        "nx.draw(G, pos)"
      ]
    },
    {
      "cell_type": "markdown",
      "metadata": {
        "id": "EKo-fxJxlLJM"
      },
      "source": [
        "We can use built-in functions in <code>networkx</code> to compute the average degree $\\langle k \\rangle$, as the total number of links, divided by the total number of nodes."
      ]
    },
    {
      "cell_type": "code",
      "execution_count": null,
      "metadata": {
        "id": "Gu3XhL3elLJM"
      },
      "outputs": [],
      "source": [
        "G.number_of_edges()/G.number_of_nodes()"
      ]
    },
    {
      "cell_type": "markdown",
      "metadata": {
        "id": "SpOht3p2lLJN"
      },
      "source": [
        "Many other network characteristics can be computed easily in <code>networkx</code>."
      ]
    },
    {
      "cell_type": "markdown",
      "metadata": {
        "id": "PZtsvNEGlLJN"
      },
      "source": [
        "## Simulating SIR Dynamics on Random Network\n",
        "\n",
        "Next, we learn how to simulate the SIR dynamics on the Erdos-Renyi network.\n",
        "\n",
        "At the start of the simulation, let us pick a random node to be infected."
      ]
    },
    {
      "cell_type": "code",
      "execution_count": null,
      "metadata": {
        "id": "DfPgNX1slLJN"
      },
      "outputs": [],
      "source": [
        "import numpy as np\n",
        "I = []\n",
        "I.append(np.random.randint(N))"
      ]
    },
    {
      "cell_type": "markdown",
      "metadata": {
        "id": "4ilEIoizlLJO"
      },
      "source": [
        "We assume that the rest of the nodes are susceptible."
      ]
    },
    {
      "cell_type": "code",
      "execution_count": null,
      "metadata": {
        "id": "LnaCiYpxlLJP"
      },
      "outputs": [],
      "source": [
        "S = [ i for i in range(N) ]"
      ]
    },
    {
      "cell_type": "code",
      "execution_count": null,
      "metadata": {
        "id": "-bBXym0-lLJP"
      },
      "outputs": [],
      "source": [
        "S = list(set(S) - set(I))"
      ]
    },
    {
      "cell_type": "markdown",
      "metadata": {
        "id": "6EeURqsXlLJQ"
      },
      "source": [
        "We also initialize the list of recovered nodes."
      ]
    },
    {
      "cell_type": "code",
      "execution_count": null,
      "metadata": {
        "id": "WpzsQ9eUlLJQ"
      },
      "outputs": [],
      "source": [
        "R = []"
      ]
    },
    {
      "cell_type": "markdown",
      "metadata": {
        "id": "vHDOd3ollLJQ"
      },
      "source": [
        "Before running the simulation, let us set the infection rate to be <code>beta = 0.25</code>, i.e., every time step, there is a 25% chance for an infected node to infect a susceptible neighbour. Let us also set the recovery rate to be <code>gamma = 0.1</code>, i.e., an infected node takes on average 10 time steps to recover."
      ]
    },
    {
      "cell_type": "code",
      "execution_count": null,
      "metadata": {
        "id": "pf0RmEShlLJR"
      },
      "outputs": [],
      "source": [
        "beta = 0.25\n",
        "gamma = 0.1"
      ]
    },
    {
      "cell_type": "markdown",
      "metadata": {
        "id": "2i_g5ebIlLJR"
      },
      "source": [
        "Let us go through one turn of this simulation first, before we automate the rest."
      ]
    },
    {
      "cell_type": "markdown",
      "metadata": {
        "id": "dxhsrHvGlLJR"
      },
      "source": [
        "First, let us learn how to visualize the epidemic simulation, by plotting the links and nodes separately, using red for infected nodes, blue for susceptible nodes, and green for recovered nodes."
      ]
    },
    {
      "cell_type": "code",
      "execution_count": null,
      "metadata": {
        "id": "90HnnzB_lLJR"
      },
      "outputs": [],
      "source": [
        "# draw edges first\n",
        "for e in G.edges():\n",
        "    i = e[0]\n",
        "    j = e[1]\n",
        "    plt.plot([pos[i][0], pos[j][0]],[pos[i][1], pos[j][1]], 'k', linewidth=2)\n",
        "# draw susceptible nodes\n",
        "for i in S:\n",
        "    r = pos[i]\n",
        "    plt.plot(r[0], r[1], 'bo', markersize=10)\n",
        "# draw infected nodes\n",
        "for i in I:\n",
        "    r = pos[i]\n",
        "    plt.plot(r[0], r[1], 'ro', markersize=10)\n",
        "# draw recovered nodes\n",
        "for i in R:\n",
        "    r = pos[i]\n",
        "    plt.plot(r[0], r[1], 'go', markersize=10)\n",
        "# do not show axes\n",
        "plt.axis('off')\n",
        "plt.show()"
      ]
    },
    {
      "cell_type": "markdown",
      "metadata": {
        "id": "yb-RVcmDlLJS"
      },
      "source": [
        "Next, let us check the neighbors of the infected nodes, and if they are susceptible nodes, infect them with a probability of $\\beta = 0.25$."
      ]
    },
    {
      "cell_type": "code",
      "execution_count": null,
      "metadata": {
        "id": "qyLQw-felLJS"
      },
      "outputs": [],
      "source": [
        "# make copies of S and I\n",
        "Snew = list(S)\n",
        "Inew = list(I)\n",
        "# infect susceptible neighbors of infected nodes\n",
        "# go through all infected nodes\n",
        "for i in I:\n",
        "    # go through all neighbors of infected nodes\n",
        "    for j in G.neighbors(i):\n",
        "        # check if neighbor is in list of susceptible nodes\n",
        "        if j in Snew:\n",
        "            if np.random.rand() < beta:\n",
        "                # add j to new list of infected nodes\n",
        "                Inew.append(j)\n",
        "                # remove j from new list of susceptible nodes\n",
        "                Snew.remove(j)\n",
        "# update lists\n",
        "S = list(Snew)\n",
        "I = list(Inew)"
      ]
    },
    {
      "cell_type": "markdown",
      "metadata": {
        "id": "5pmhpY7JlLJT"
      },
      "source": [
        "In the above code, we need not worry about a node $j$ that is a neighbor of node $i$ and also of node $i'$. If $j$ is infected by $i$, it would be removed from <code>Snew</code>. Therefore, when we come around to $j$ again when we go through the neighbors of $i'$, $j$ would no longer be in <code>Snew</code>."
      ]
    },
    {
      "cell_type": "markdown",
      "metadata": {
        "id": "KMxAcAWXlLJT"
      },
      "source": [
        "After allowing the seed node to infect some of its neighbors, let us now allow some of the infected nodes to recover, with probability $\\gamma = 0.1$."
      ]
    },
    {
      "cell_type": "code",
      "execution_count": null,
      "metadata": {
        "id": "CBaOFPkXlLJT"
      },
      "outputs": [],
      "source": [
        "# make copy of I\n",
        "Inew = list(I)\n",
        "# go through all infected nodes\n",
        "for i in I:\n",
        "    # node i recovers with probability gamma = 0.1\n",
        "    if np.random.rand() < gamma:\n",
        "        Inew.remove(i)\n",
        "        R.append(i)\n",
        "# update list\n",
        "I = list(Inew)"
      ]
    },
    {
      "cell_type": "markdown",
      "metadata": {
        "id": "bhRwNivFlLJU"
      },
      "source": [
        "Before we run more steps of the simulation, let us plot the network again."
      ]
    },
    {
      "cell_type": "code",
      "execution_count": null,
      "metadata": {
        "id": "7P8ocx2xlLJm"
      },
      "outputs": [],
      "source": [
        "# draw edges first\n",
        "for e in G.edges():\n",
        "    i = e[0]\n",
        "    j = e[1]\n",
        "    plt.plot([pos[i][0], pos[j][0]],[pos[i][1], pos[j][1]], 'k', linewidth=2)\n",
        "# draw susceptible nodes\n",
        "for i in S:\n",
        "    r = pos[i]\n",
        "    plt.plot(r[0], r[1], 'bo', markersize=10)\n",
        "# draw infected nodes\n",
        "for i in I:\n",
        "    r = pos[i]\n",
        "    plt.plot(r[0], r[1], 'ro', markersize=10)\n",
        "# draw recovered nodes\n",
        "for i in R:\n",
        "    r = pos[i]\n",
        "    plt.plot(r[0], r[1], 'go', markersize=10)\n",
        "# do not show axes\n",
        "plt.axis('off')\n",
        "plt.show()"
      ]
    },
    {
      "cell_type": "markdown",
      "metadata": {
        "id": "t14HzjLblLJq"
      },
      "source": [
        "One full simulation step would be:"
      ]
    },
    {
      "cell_type": "code",
      "execution_count": null,
      "metadata": {
        "id": "VUv6WPJTlLJr"
      },
      "outputs": [],
      "source": [
        "# make copies of S and I\n",
        "Snew = list(S)\n",
        "Inew = list(I)\n",
        "# infect susceptible neighbors of infected nodes\n",
        "# go through all infected nodes\n",
        "for i in I:\n",
        "    # go through all neighbors of infected nodes\n",
        "    for j in G.neighbors(i):\n",
        "        # check if neighbor is in list of susceptible nodes\n",
        "        if j in Snew:\n",
        "            if np.random.rand() < beta:\n",
        "                # add j to new list of infected nodes\n",
        "                Inew.append(j)\n",
        "                # remove j from new list of susceptible nodes\n",
        "                Snew.remove(j)\n",
        "# update lists\n",
        "S = list(Snew)\n",
        "I = list(Inew)\n",
        "# make copy of I\n",
        "Inew = list(I)\n",
        "# go through all infected nodes\n",
        "for i in I:\n",
        "    # node i recovers with probability gamma = 0.1\n",
        "    if np.random.rand() < gamma:\n",
        "        Inew.remove(i)\n",
        "        R.append(i)\n",
        "# update list\n",
        "I = list(Inew)"
      ]
    },
    {
      "cell_type": "code",
      "execution_count": null,
      "metadata": {
        "id": "ys5Y-0EFlLJt"
      },
      "outputs": [],
      "source": [
        "# draw edges first\n",
        "for e in G.edges():\n",
        "    i = e[0]\n",
        "    j = e[1]\n",
        "    plt.plot([pos[i][0], pos[j][0]],[pos[i][1], pos[j][1]], 'k', linewidth=2)\n",
        "# draw susceptible nodes\n",
        "for i in S:\n",
        "    r = pos[i]\n",
        "    plt.plot(r[0], r[1], 'bo', markersize=10)\n",
        "# draw infected nodes\n",
        "for i in I:\n",
        "    r = pos[i]\n",
        "    plt.plot(r[0], r[1], 'ro', markersize=10)\n",
        "# draw recovered nodes\n",
        "for i in R:\n",
        "    r = pos[i]\n",
        "    plt.plot(r[0], r[1], 'go', markersize=10)\n",
        "# do not show axes\n",
        "plt.axis('off')\n",
        "plt.show()"
      ]
    },
    {
      "cell_type": "code",
      "execution_count": null,
      "metadata": {
        "id": "4ynT-ARKlLJt"
      },
      "outputs": [],
      "source": [
        "# make copies of S and I\n",
        "Snew = list(S)\n",
        "Inew = list(I)\n",
        "# infect susceptible neighbors of infected nodes\n",
        "# go through all infected nodes\n",
        "for i in I:\n",
        "    # go through all neighbors of infected nodes\n",
        "    for j in G.neighbors(i):\n",
        "        # check if neighbor is in list of susceptible nodes\n",
        "        if j in Snew:\n",
        "            if np.random.rand() < beta:\n",
        "                # add j to new list of infected nodes\n",
        "                Inew.append(j)\n",
        "                # remove j from new list of susceptible nodes\n",
        "                Snew.remove(j)\n",
        "# update lists\n",
        "S = list(Snew)\n",
        "I = list(Inew)\n",
        "# make copy of I\n",
        "Inew = list(I)\n",
        "# go through all infected nodes\n",
        "for i in I:\n",
        "    # node i recovers with probability gamma = 0.1\n",
        "    if np.random.rand() < gamma:\n",
        "        Inew.remove(i)\n",
        "        R.append(i)\n",
        "# update list\n",
        "I = list(Inew)\n",
        "# draw edges first\n",
        "for e in G.edges():\n",
        "    i = e[0]\n",
        "    j = e[1]\n",
        "    plt.plot([pos[i][0], pos[j][0]],[pos[i][1], pos[j][1]], 'k', linewidth=2)\n",
        "# draw susceptible nodes\n",
        "for i in S:\n",
        "    r = pos[i]\n",
        "    plt.plot(r[0], r[1], 'bo', markersize=10)\n",
        "# draw infected nodes\n",
        "for i in I:\n",
        "    r = pos[i]\n",
        "    plt.plot(r[0], r[1], 'ro', markersize=10)\n",
        "# draw recovered nodes\n",
        "for i in R:\n",
        "    r = pos[i]\n",
        "    plt.plot(r[0], r[1], 'go', markersize=10)\n",
        "# do not show axes\n",
        "plt.axis('off')\n",
        "plt.show()"
      ]
    },
    {
      "cell_type": "code",
      "execution_count": null,
      "metadata": {
        "id": "3U4p77RZlLJu"
      },
      "outputs": [],
      "source": [
        "# make copies of S and I\n",
        "Snew = list(S)\n",
        "Inew = list(I)\n",
        "# infect susceptible neighbors of infected nodes\n",
        "# go through all infected nodes\n",
        "for i in I:\n",
        "    # go through all neighbors of infected nodes\n",
        "    for j in G.neighbors(i):\n",
        "        # check if neighbor is in list of susceptible nodes\n",
        "        if j in Snew:\n",
        "            if np.random.rand() < beta:\n",
        "                # add j to new list of infected nodes\n",
        "                Inew.append(j)\n",
        "                # remove j from new list of susceptible nodes\n",
        "                Snew.remove(j)\n",
        "# update lists\n",
        "S = list(Snew)\n",
        "I = list(Inew)\n",
        "# make copy of I\n",
        "Inew = list(I)\n",
        "# go through all infected nodes\n",
        "for i in I:\n",
        "    # node i recovers with probability gamma = 0.1\n",
        "    if np.random.rand() < gamma:\n",
        "        Inew.remove(i)\n",
        "        R.append(i)\n",
        "# update list\n",
        "I = list(Inew)\n",
        "# draw edges first\n",
        "for e in G.edges():\n",
        "    i = e[0]\n",
        "    j = e[1]\n",
        "    plt.plot([pos[i][0], pos[j][0]],[pos[i][1], pos[j][1]], 'k', linewidth=2)\n",
        "# draw susceptible nodes\n",
        "for i in S:\n",
        "    r = pos[i]\n",
        "    plt.plot(r[0], r[1], 'bo', markersize=10)\n",
        "# draw infected nodes\n",
        "for i in I:\n",
        "    r = pos[i]\n",
        "    plt.plot(r[0], r[1], 'ro', markersize=10)\n",
        "# draw recovered nodes\n",
        "for i in R:\n",
        "    r = pos[i]\n",
        "    plt.plot(r[0], r[1], 'go', markersize=10)\n",
        "# do not show axes\n",
        "plt.axis('off')\n",
        "plt.show()"
      ]
    },
    {
      "cell_type": "code",
      "execution_count": null,
      "metadata": {
        "id": "r-NJmda1lLJu"
      },
      "outputs": [],
      "source": [
        "# make copies of S and I\n",
        "Snew = list(S)\n",
        "Inew = list(I)\n",
        "# infect susceptible neighbors of infected nodes\n",
        "# go through all infected nodes\n",
        "for i in I:\n",
        "    # go through all neighbors of infected nodes\n",
        "    for j in G.neighbors(i):\n",
        "        # check if neighbor is in list of susceptible nodes\n",
        "        if j in Snew:\n",
        "            if np.random.rand() < beta:\n",
        "                # add j to new list of infected nodes\n",
        "                Inew.append(j)\n",
        "                # remove j from new list of susceptible nodes\n",
        "                Snew.remove(j)\n",
        "# update lists\n",
        "S = list(Snew)\n",
        "I = list(Inew)\n",
        "# make copy of I\n",
        "Inew = list(I)\n",
        "# go through all infected nodes\n",
        "for i in I:\n",
        "    # node i recovers with probability gamma = 0.1\n",
        "    if np.random.rand() < gamma:\n",
        "        Inew.remove(i)\n",
        "        R.append(i)\n",
        "# update list\n",
        "I = list(Inew)\n",
        "# draw edges first\n",
        "for e in G.edges():\n",
        "    i = e[0]\n",
        "    j = e[1]\n",
        "    plt.plot([pos[i][0], pos[j][0]],[pos[i][1], pos[j][1]], 'k', linewidth=2)\n",
        "# draw susceptible nodes\n",
        "for i in S:\n",
        "    r = pos[i]\n",
        "    plt.plot(r[0], r[1], 'bo', markersize=10)\n",
        "# draw infected nodes\n",
        "for i in I:\n",
        "    r = pos[i]\n",
        "    plt.plot(r[0], r[1], 'ro', markersize=10)\n",
        "# draw recovered nodes\n",
        "for i in R:\n",
        "    r = pos[i]\n",
        "    plt.plot(r[0], r[1], 'go', markersize=10)\n",
        "# do not show axes\n",
        "plt.axis('off')\n",
        "plt.show()"
      ]
    },
    {
      "cell_type": "code",
      "execution_count": null,
      "metadata": {
        "id": "hBroSCczlLJv"
      },
      "outputs": [],
      "source": [
        "# make copies of S and I\n",
        "Snew = list(S)\n",
        "Inew = list(I)\n",
        "# infect susceptible neighbors of infected nodes\n",
        "# go through all infected nodes\n",
        "for i in I:\n",
        "    # go through all neighbors of infected nodes\n",
        "    for j in G.neighbors(i):\n",
        "        # check if neighbor is in list of susceptible nodes\n",
        "        if j in Snew:\n",
        "            if np.random.rand() < beta:\n",
        "                # add j to new list of infected nodes\n",
        "                Inew.append(j)\n",
        "                # remove j from new list of susceptible nodes\n",
        "                Snew.remove(j)\n",
        "# update lists\n",
        "S = list(Snew)\n",
        "I = list(Inew)\n",
        "# make copy of I\n",
        "Inew = list(I)\n",
        "# go through all infected nodes\n",
        "for i in I:\n",
        "    # node i recovers with probability gamma = 0.1\n",
        "    if np.random.rand() < gamma:\n",
        "        Inew.remove(i)\n",
        "        R.append(i)\n",
        "# update list\n",
        "I = list(Inew)\n",
        "# draw edges first\n",
        "for e in G.edges():\n",
        "    i = e[0]\n",
        "    j = e[1]\n",
        "    plt.plot([pos[i][0], pos[j][0]],[pos[i][1], pos[j][1]], 'k', linewidth=2)\n",
        "# draw susceptible nodes\n",
        "for i in S:\n",
        "    r = pos[i]\n",
        "    plt.plot(r[0], r[1], 'bo', markersize=10)\n",
        "# draw infected nodes\n",
        "for i in I:\n",
        "    r = pos[i]\n",
        "    plt.plot(r[0], r[1], 'ro', markersize=10)\n",
        "# draw recovered nodes\n",
        "for i in R:\n",
        "    r = pos[i]\n",
        "    plt.plot(r[0], r[1], 'go', markersize=10)\n",
        "# do not show axes\n",
        "plt.axis('off')\n",
        "plt.show()"
      ]
    },
    {
      "cell_type": "code",
      "execution_count": null,
      "metadata": {
        "id": "ITboLJ2DlLJv"
      },
      "outputs": [],
      "source": [
        "# make copies of S and I\n",
        "Snew = list(S)\n",
        "Inew = list(I)\n",
        "# infect susceptible neighbors of infected nodes\n",
        "# go through all infected nodes\n",
        "for i in I:\n",
        "    # go through all neighbors of infected nodes\n",
        "    for j in G.neighbors(i):\n",
        "        # check if neighbor is in list of susceptible nodes\n",
        "        if j in Snew:\n",
        "            if np.random.rand() < beta:\n",
        "                # add j to new list of infected nodes\n",
        "                Inew.append(j)\n",
        "                # remove j from new list of susceptible nodes\n",
        "                Snew.remove(j)\n",
        "# update lists\n",
        "S = list(Snew)\n",
        "I = list(Inew)\n",
        "# make copy of I\n",
        "Inew = list(I)\n",
        "# go through all infected nodes\n",
        "for i in I:\n",
        "    # node i recovers with probability gamma = 0.1\n",
        "    if np.random.rand() < gamma:\n",
        "        Inew.remove(i)\n",
        "        R.append(i)\n",
        "# update list\n",
        "I = list(Inew)\n",
        "# draw edges first\n",
        "for e in G.edges():\n",
        "    i = e[0]\n",
        "    j = e[1]\n",
        "    plt.plot([pos[i][0], pos[j][0]],[pos[i][1], pos[j][1]], 'k', linewidth=2)\n",
        "# draw susceptible nodes\n",
        "for i in S:\n",
        "    r = pos[i]\n",
        "    plt.plot(r[0], r[1], 'bo', markersize=10)\n",
        "# draw infected nodes\n",
        "for i in I:\n",
        "    r = pos[i]\n",
        "    plt.plot(r[0], r[1], 'ro', markersize=10)\n",
        "# draw recovered nodes\n",
        "for i in R:\n",
        "    r = pos[i]\n",
        "    plt.plot(r[0], r[1], 'go', markersize=10)\n",
        "# do not show axes\n",
        "plt.axis('off')\n",
        "plt.show()"
      ]
    },
    {
      "cell_type": "code",
      "execution_count": null,
      "metadata": {
        "id": "Itu-sUb2lLJv"
      },
      "outputs": [],
      "source": [
        "# make copies of S and I\n",
        "Snew = list(S)\n",
        "Inew = list(I)\n",
        "# infect susceptible neighbors of infected nodes\n",
        "# go through all infected nodes\n",
        "for i in I:\n",
        "    # go through all neighbors of infected nodes\n",
        "    for j in G.neighbors(i):\n",
        "        # check if neighbor is in list of susceptible nodes\n",
        "        if j in Snew:\n",
        "            if np.random.rand() < beta:\n",
        "                # add j to new list of infected nodes\n",
        "                Inew.append(j)\n",
        "                # remove j from new list of susceptible nodes\n",
        "                Snew.remove(j)\n",
        "# update lists\n",
        "S = list(Snew)\n",
        "I = list(Inew)\n",
        "# make copy of I\n",
        "Inew = list(I)\n",
        "# go through all infected nodes\n",
        "for i in I:\n",
        "    # node i recovers with probability gamma = 0.1\n",
        "    if np.random.rand() < gamma:\n",
        "        Inew.remove(i)\n",
        "        R.append(i)\n",
        "# update list\n",
        "I = list(Inew)\n",
        "# draw edges first\n",
        "for e in G.edges():\n",
        "    i = e[0]\n",
        "    j = e[1]\n",
        "    plt.plot([pos[i][0], pos[j][0]],[pos[i][1], pos[j][1]], 'k', linewidth=2)\n",
        "# draw susceptible nodes\n",
        "for i in S:\n",
        "    r = pos[i]\n",
        "    plt.plot(r[0], r[1], 'bo', markersize=10)\n",
        "# draw infected nodes\n",
        "for i in I:\n",
        "    r = pos[i]\n",
        "    plt.plot(r[0], r[1], 'ro', markersize=10)\n",
        "# draw recovered nodes\n",
        "for i in R:\n",
        "    r = pos[i]\n",
        "    plt.plot(r[0], r[1], 'go', markersize=10)\n",
        "# do not show axes\n",
        "plt.axis('off')\n",
        "plt.show()"
      ]
    },
    {
      "cell_type": "code",
      "execution_count": null,
      "metadata": {
        "id": "qPvpHmpPlLJw"
      },
      "outputs": [],
      "source": [
        "# make copies of S and I\n",
        "Snew = list(S)\n",
        "Inew = list(I)\n",
        "# infect susceptible neighbors of infected nodes\n",
        "# go through all infected nodes\n",
        "for i in I:\n",
        "    # go through all neighbors of infected nodes\n",
        "    for j in G.neighbors(i):\n",
        "        # check if neighbor is in list of susceptible nodes\n",
        "        if j in Snew:\n",
        "            if np.random.rand() < beta:\n",
        "                # add j to new list of infected nodes\n",
        "                Inew.append(j)\n",
        "                # remove j from new list of susceptible nodes\n",
        "                Snew.remove(j)\n",
        "# update lists\n",
        "S = list(Snew)\n",
        "I = list(Inew)\n",
        "# make copy of I\n",
        "Inew = list(I)\n",
        "# go through all infected nodes\n",
        "for i in I:\n",
        "    # node i recovers with probability gamma = 0.1\n",
        "    if np.random.rand() < gamma:\n",
        "        Inew.remove(i)\n",
        "        R.append(i)\n",
        "# update list\n",
        "I = list(Inew)\n",
        "# draw edges first\n",
        "for e in G.edges():\n",
        "    i = e[0]\n",
        "    j = e[1]\n",
        "    plt.plot([pos[i][0], pos[j][0]],[pos[i][1], pos[j][1]], 'k', linewidth=2)\n",
        "# draw susceptible nodes\n",
        "for i in S:\n",
        "    r = pos[i]\n",
        "    plt.plot(r[0], r[1], 'bo', markersize=10)\n",
        "# draw infected nodes\n",
        "for i in I:\n",
        "    r = pos[i]\n",
        "    plt.plot(r[0], r[1], 'ro', markersize=10)\n",
        "# draw recovered nodes\n",
        "for i in R:\n",
        "    r = pos[i]\n",
        "    plt.plot(r[0], r[1], 'go', markersize=10)\n",
        "# do not show axes\n",
        "plt.axis('off')\n",
        "plt.show()"
      ]
    },
    {
      "cell_type": "code",
      "execution_count": null,
      "metadata": {
        "id": "6646BbculLJw"
      },
      "outputs": [],
      "source": [
        "# make copies of S and I\n",
        "Snew = list(S)\n",
        "Inew = list(I)\n",
        "# infect susceptible neighbors of infected nodes\n",
        "# go through all infected nodes\n",
        "for i in I:\n",
        "    # go through all neighbors of infected nodes\n",
        "    for j in G.neighbors(i):\n",
        "        # check if neighbor is in list of susceptible nodes\n",
        "        if j in Snew:\n",
        "            if np.random.rand() < beta:\n",
        "                # add j to new list of infected nodes\n",
        "                Inew.append(j)\n",
        "                # remove j from new list of susceptible nodes\n",
        "                Snew.remove(j)\n",
        "# update lists\n",
        "S = list(Snew)\n",
        "I = list(Inew)\n",
        "# make copy of I\n",
        "Inew = list(I)\n",
        "# go through all infected nodes\n",
        "for i in I:\n",
        "    # node i recovers with probability gamma = 0.1\n",
        "    if np.random.rand() < gamma:\n",
        "        Inew.remove(i)\n",
        "        R.append(i)\n",
        "# update list\n",
        "I = list(Inew)\n",
        "# draw edges first\n",
        "for e in G.edges():\n",
        "    i = e[0]\n",
        "    j = e[1]\n",
        "    plt.plot([pos[i][0], pos[j][0]],[pos[i][1], pos[j][1]], 'k', linewidth=2)\n",
        "# draw susceptible nodes\n",
        "for i in S:\n",
        "    r = pos[i]\n",
        "    plt.plot(r[0], r[1], 'bo', markersize=10)\n",
        "# draw infected nodes\n",
        "for i in I:\n",
        "    r = pos[i]\n",
        "    plt.plot(r[0], r[1], 'ro', markersize=10)\n",
        "# draw recovered nodes\n",
        "for i in R:\n",
        "    r = pos[i]\n",
        "    plt.plot(r[0], r[1], 'go', markersize=10)\n",
        "# do not show axes\n",
        "plt.axis('off')\n",
        "plt.show()"
      ]
    },
    {
      "cell_type": "code",
      "execution_count": null,
      "metadata": {
        "id": "towm74lAlLJx"
      },
      "outputs": [],
      "source": [
        "# make copies of S and I\n",
        "Snew = list(S)\n",
        "Inew = list(I)\n",
        "# infect susceptible neighbors of infected nodes\n",
        "# go through all infected nodes\n",
        "for i in I:\n",
        "    # go through all neighbors of infected nodes\n",
        "    for j in G.neighbors(i):\n",
        "        # check if neighbor is in list of susceptible nodes\n",
        "        if j in Snew:\n",
        "            if np.random.rand() < beta:\n",
        "                # add j to new list of infected nodes\n",
        "                Inew.append(j)\n",
        "                # remove j from new list of susceptible nodes\n",
        "                Snew.remove(j)\n",
        "# update lists\n",
        "S = list(Snew)\n",
        "I = list(Inew)\n",
        "# make copy of I\n",
        "Inew = list(I)\n",
        "# go through all infected nodes\n",
        "for i in I:\n",
        "    # node i recovers with probability gamma = 0.1\n",
        "    if np.random.rand() < gamma:\n",
        "        Inew.remove(i)\n",
        "        R.append(i)\n",
        "# update list\n",
        "I = list(Inew)\n",
        "# draw edges first\n",
        "for e in G.edges():\n",
        "    i = e[0]\n",
        "    j = e[1]\n",
        "    plt.plot([pos[i][0], pos[j][0]],[pos[i][1], pos[j][1]], 'k', linewidth=2)\n",
        "# draw susceptible nodes\n",
        "for i in S:\n",
        "    r = pos[i]\n",
        "    plt.plot(r[0], r[1], 'bo', markersize=10)\n",
        "# draw infected nodes\n",
        "for i in I:\n",
        "    r = pos[i]\n",
        "    plt.plot(r[0], r[1], 'ro', markersize=10)\n",
        "# draw recovered nodes\n",
        "for i in R:\n",
        "    r = pos[i]\n",
        "    plt.plot(r[0], r[1], 'go', markersize=10)\n",
        "# do not show axes\n",
        "plt.axis('off')\n",
        "plt.show()"
      ]
    },
    {
      "cell_type": "code",
      "execution_count": null,
      "metadata": {
        "id": "377_w8g_lLJy"
      },
      "outputs": [],
      "source": [
        "# make copies of S and I\n",
        "Snew = list(S)\n",
        "Inew = list(I)\n",
        "# infect susceptible neighbors of infected nodes\n",
        "# go through all infected nodes\n",
        "for i in I:\n",
        "    # go through all neighbors of infected nodes\n",
        "    for j in G.neighbors(i):\n",
        "        # check if neighbor is in list of susceptible nodes\n",
        "        if j in Snew:\n",
        "            if np.random.rand() < beta:\n",
        "                # add j to new list of infected nodes\n",
        "                Inew.append(j)\n",
        "                # remove j from new list of susceptible nodes\n",
        "                Snew.remove(j)\n",
        "# update lists\n",
        "S = list(Snew)\n",
        "I = list(Inew)\n",
        "# make copy of I\n",
        "Inew = list(I)\n",
        "# go through all infected nodes\n",
        "for i in I:\n",
        "    # node i recovers with probability gamma = 0.1\n",
        "    if np.random.rand() < gamma:\n",
        "        Inew.remove(i)\n",
        "        R.append(i)\n",
        "# update list\n",
        "I = list(Inew)\n",
        "# draw edges first\n",
        "for e in G.edges():\n",
        "    i = e[0]\n",
        "    j = e[1]\n",
        "    plt.plot([pos[i][0], pos[j][0]],[pos[i][1], pos[j][1]], 'k', linewidth=2)\n",
        "# draw susceptible nodes\n",
        "for i in S:\n",
        "    r = pos[i]\n",
        "    plt.plot(r[0], r[1], 'bo', markersize=10)\n",
        "# draw infected nodes\n",
        "for i in I:\n",
        "    r = pos[i]\n",
        "    plt.plot(r[0], r[1], 'ro', markersize=10)\n",
        "# draw recovered nodes\n",
        "for i in R:\n",
        "    r = pos[i]\n",
        "    plt.plot(r[0], r[1], 'go', markersize=10)\n",
        "# do not show axes\n",
        "plt.axis('off')\n",
        "plt.show()"
      ]
    },
    {
      "cell_type": "code",
      "execution_count": null,
      "metadata": {
        "id": "7QSm30iNlLJy"
      },
      "outputs": [],
      "source": [
        "# make copies of S and I\n",
        "Snew = list(S)\n",
        "Inew = list(I)\n",
        "# infect susceptible neighbors of infected nodes\n",
        "# go through all infected nodes\n",
        "for i in I:\n",
        "    # go through all neighbors of infected nodes\n",
        "    for j in G.neighbors(i):\n",
        "        # check if neighbor is in list of susceptible nodes\n",
        "        if j in Snew:\n",
        "            if np.random.rand() < beta:\n",
        "                # add j to new list of infected nodes\n",
        "                Inew.append(j)\n",
        "                # remove j from new list of susceptible nodes\n",
        "                Snew.remove(j)\n",
        "# update lists\n",
        "S = list(Snew)\n",
        "I = list(Inew)\n",
        "# make copy of I\n",
        "Inew = list(I)\n",
        "# go through all infected nodes\n",
        "for i in I:\n",
        "    # node i recovers with probability gamma = 0.1\n",
        "    if np.random.rand() < gamma:\n",
        "        Inew.remove(i)\n",
        "        R.append(i)\n",
        "# update list\n",
        "I = list(Inew)\n",
        "# draw edges first\n",
        "for e in G.edges():\n",
        "    i = e[0]\n",
        "    j = e[1]\n",
        "    plt.plot([pos[i][0], pos[j][0]],[pos[i][1], pos[j][1]], 'k', linewidth=2)\n",
        "# draw susceptible nodes\n",
        "for i in S:\n",
        "    r = pos[i]\n",
        "    plt.plot(r[0], r[1], 'bo', markersize=10)\n",
        "# draw infected nodes\n",
        "for i in I:\n",
        "    r = pos[i]\n",
        "    plt.plot(r[0], r[1], 'ro', markersize=10)\n",
        "# draw recovered nodes\n",
        "for i in R:\n",
        "    r = pos[i]\n",
        "    plt.plot(r[0], r[1], 'go', markersize=10)\n",
        "# do not show axes\n",
        "plt.axis('off')\n",
        "plt.show()"
      ]
    },
    {
      "cell_type": "code",
      "execution_count": null,
      "metadata": {
        "id": "Bzq4AAPylLJz"
      },
      "outputs": [],
      "source": [
        "# make copies of S and I\n",
        "Snew = list(S)\n",
        "Inew = list(I)\n",
        "# infect susceptible neighbors of infected nodes\n",
        "# go through all infected nodes\n",
        "for i in I:\n",
        "    # go through all neighbors of infected nodes\n",
        "    for j in G.neighbors(i):\n",
        "        # check if neighbor is in list of susceptible nodes\n",
        "        if j in Snew:\n",
        "            if np.random.rand() < beta:\n",
        "                # add j to new list of infected nodes\n",
        "                Inew.append(j)\n",
        "                # remove j from new list of susceptible nodes\n",
        "                Snew.remove(j)\n",
        "# update lists\n",
        "S = list(Snew)\n",
        "I = list(Inew)\n",
        "# make copy of I\n",
        "Inew = list(I)\n",
        "# go through all infected nodes\n",
        "for i in I:\n",
        "    # node i recovers with probability gamma = 0.1\n",
        "    if np.random.rand() < gamma:\n",
        "        Inew.remove(i)\n",
        "        R.append(i)\n",
        "# update list\n",
        "I = list(Inew)\n",
        "# draw edges first\n",
        "for e in G.edges():\n",
        "    i = e[0]\n",
        "    j = e[1]\n",
        "    plt.plot([pos[i][0], pos[j][0]],[pos[i][1], pos[j][1]], 'k', linewidth=2)\n",
        "# draw susceptible nodes\n",
        "for i in S:\n",
        "    r = pos[i]\n",
        "    plt.plot(r[0], r[1], 'bo', markersize=10)\n",
        "# draw infected nodes\n",
        "for i in I:\n",
        "    r = pos[i]\n",
        "    plt.plot(r[0], r[1], 'ro', markersize=10)\n",
        "# draw recovered nodes\n",
        "for i in R:\n",
        "    r = pos[i]\n",
        "    plt.plot(r[0], r[1], 'go', markersize=10)\n",
        "# do not show axes\n",
        "plt.axis('off')\n",
        "plt.show()"
      ]
    },
    {
      "cell_type": "code",
      "execution_count": null,
      "metadata": {
        "id": "pfOoVMuylLJ0"
      },
      "outputs": [],
      "source": [
        "# make copies of S and I\n",
        "Snew = list(S)\n",
        "Inew = list(I)\n",
        "# infect susceptible neighbors of infected nodes\n",
        "# go through all infected nodes\n",
        "for i in I:\n",
        "    # go through all neighbors of infected nodes\n",
        "    for j in G.neighbors(i):\n",
        "        # check if neighbor is in list of susceptible nodes\n",
        "        if j in Snew:\n",
        "            if np.random.rand() < beta:\n",
        "                # add j to new list of infected nodes\n",
        "                Inew.append(j)\n",
        "                # remove j from new list of susceptible nodes\n",
        "                Snew.remove(j)\n",
        "# update lists\n",
        "S = list(Snew)\n",
        "I = list(Inew)\n",
        "# make copy of I\n",
        "Inew = list(I)\n",
        "# go through all infected nodes\n",
        "for i in I:\n",
        "    # node i recovers with probability gamma = 0.1\n",
        "    if np.random.rand() < gamma:\n",
        "        Inew.remove(i)\n",
        "        R.append(i)\n",
        "# update list\n",
        "I = list(Inew)\n",
        "# draw edges first\n",
        "for e in G.edges():\n",
        "    i = e[0]\n",
        "    j = e[1]\n",
        "    plt.plot([pos[i][0], pos[j][0]],[pos[i][1], pos[j][1]], 'k', linewidth=2)\n",
        "# draw susceptible nodes\n",
        "for i in S:\n",
        "    r = pos[i]\n",
        "    plt.plot(r[0], r[1], 'bo', markersize=10)\n",
        "# draw infected nodes\n",
        "for i in I:\n",
        "    r = pos[i]\n",
        "    plt.plot(r[0], r[1], 'ro', markersize=10)\n",
        "# draw recovered nodes\n",
        "for i in R:\n",
        "    r = pos[i]\n",
        "    plt.plot(r[0], r[1], 'go', markersize=10)\n",
        "# do not show axes\n",
        "plt.axis('off')\n",
        "plt.show()"
      ]
    },
    {
      "cell_type": "code",
      "execution_count": null,
      "metadata": {
        "id": "Z4bq8e4QlLJ0"
      },
      "outputs": [],
      "source": [
        "# make copies of S and I\n",
        "Snew = list(S)\n",
        "Inew = list(I)\n",
        "# infect susceptible neighbors of infected nodes\n",
        "# go through all infected nodes\n",
        "for i in I:\n",
        "    # go through all neighbors of infected nodes\n",
        "    for j in G.neighbors(i):\n",
        "        # check if neighbor is in list of susceptible nodes\n",
        "        if j in Snew:\n",
        "            if np.random.rand() < beta:\n",
        "                # add j to new list of infected nodes\n",
        "                Inew.append(j)\n",
        "                # remove j from new list of susceptible nodes\n",
        "                Snew.remove(j)\n",
        "# update lists\n",
        "S = list(Snew)\n",
        "I = list(Inew)\n",
        "# make copy of I\n",
        "Inew = list(I)\n",
        "# go through all infected nodes\n",
        "for i in I:\n",
        "    # node i recovers with probability gamma = 0.1\n",
        "    if np.random.rand() < gamma:\n",
        "        Inew.remove(i)\n",
        "        R.append(i)\n",
        "# update list\n",
        "I = list(Inew)\n",
        "# draw edges first\n",
        "for e in G.edges():\n",
        "    i = e[0]\n",
        "    j = e[1]\n",
        "    plt.plot([pos[i][0], pos[j][0]],[pos[i][1], pos[j][1]], 'k', linewidth=2)\n",
        "# draw susceptible nodes\n",
        "for i in S:\n",
        "    r = pos[i]\n",
        "    plt.plot(r[0], r[1], 'bo', markersize=10)\n",
        "# draw infected nodes\n",
        "for i in I:\n",
        "    r = pos[i]\n",
        "    plt.plot(r[0], r[1], 'ro', markersize=10)\n",
        "# draw recovered nodes\n",
        "for i in R:\n",
        "    r = pos[i]\n",
        "    plt.plot(r[0], r[1], 'go', markersize=10)\n",
        "# do not show axes\n",
        "plt.axis('off')\n",
        "plt.show()"
      ]
    },
    {
      "cell_type": "code",
      "execution_count": null,
      "metadata": {
        "id": "3fNN7Kv1lLJ1"
      },
      "outputs": [],
      "source": [
        "# make copies of S and I\n",
        "Snew = list(S)\n",
        "Inew = list(I)\n",
        "# infect susceptible neighbors of infected nodes\n",
        "# go through all infected nodes\n",
        "for i in I:\n",
        "    # go through all neighbors of infected nodes\n",
        "    for j in G.neighbors(i):\n",
        "        # check if neighbor is in list of susceptible nodes\n",
        "        if j in Snew:\n",
        "            if np.random.rand() < beta:\n",
        "                # add j to new list of infected nodes\n",
        "                Inew.append(j)\n",
        "                # remove j from new list of susceptible nodes\n",
        "                Snew.remove(j)\n",
        "# update lists\n",
        "S = list(Snew)\n",
        "I = list(Inew)\n",
        "# make copy of I\n",
        "Inew = list(I)\n",
        "# go through all infected nodes\n",
        "for i in I:\n",
        "    # node i recovers with probability gamma = 0.1\n",
        "    if np.random.rand() < gamma:\n",
        "        Inew.remove(i)\n",
        "        R.append(i)\n",
        "# update list\n",
        "I = list(Inew)\n",
        "# draw edges first\n",
        "for e in G.edges():\n",
        "    i = e[0]\n",
        "    j = e[1]\n",
        "    plt.plot([pos[i][0], pos[j][0]],[pos[i][1], pos[j][1]], 'k', linewidth=2)\n",
        "# draw susceptible nodes\n",
        "for i in S:\n",
        "    r = pos[i]\n",
        "    plt.plot(r[0], r[1], 'bo', markersize=10)\n",
        "# draw infected nodes\n",
        "for i in I:\n",
        "    r = pos[i]\n",
        "    plt.plot(r[0], r[1], 'ro', markersize=10)\n",
        "# draw recovered nodes\n",
        "for i in R:\n",
        "    r = pos[i]\n",
        "    plt.plot(r[0], r[1], 'go', markersize=10)\n",
        "# do not show axes\n",
        "plt.axis('off')\n",
        "plt.show()"
      ]
    },
    {
      "cell_type": "code",
      "execution_count": null,
      "metadata": {
        "id": "fcs_x4e0lLJ1"
      },
      "outputs": [],
      "source": [
        "# make copies of S and I\n",
        "Snew = list(S)\n",
        "Inew = list(I)\n",
        "# infect susceptible neighbors of infected nodes\n",
        "# go through all infected nodes\n",
        "for i in I:\n",
        "    # go through all neighbors of infected nodes\n",
        "    for j in G.neighbors(i):\n",
        "        # check if neighbor is in list of susceptible nodes\n",
        "        if j in Snew:\n",
        "            if np.random.rand() < beta:\n",
        "                # add j to new list of infected nodes\n",
        "                Inew.append(j)\n",
        "                # remove j from new list of susceptible nodes\n",
        "                Snew.remove(j)\n",
        "# update lists\n",
        "S = list(Snew)\n",
        "I = list(Inew)\n",
        "# make copy of I\n",
        "Inew = list(I)\n",
        "# go through all infected nodes\n",
        "for i in I:\n",
        "    # node i recovers with probability gamma = 0.1\n",
        "    if np.random.rand() < gamma:\n",
        "        Inew.remove(i)\n",
        "        R.append(i)\n",
        "# update list\n",
        "I = list(Inew)\n",
        "# draw edges first\n",
        "for e in G.edges():\n",
        "    i = e[0]\n",
        "    j = e[1]\n",
        "    plt.plot([pos[i][0], pos[j][0]],[pos[i][1], pos[j][1]], 'k', linewidth=2)\n",
        "# draw susceptible nodes\n",
        "for i in S:\n",
        "    r = pos[i]\n",
        "    plt.plot(r[0], r[1], 'bo', markersize=10)\n",
        "# draw infected nodes\n",
        "for i in I:\n",
        "    r = pos[i]\n",
        "    plt.plot(r[0], r[1], 'ro', markersize=10)\n",
        "# draw recovered nodes\n",
        "for i in R:\n",
        "    r = pos[i]\n",
        "    plt.plot(r[0], r[1], 'go', markersize=10)\n",
        "# do not show axes\n",
        "plt.axis('off')\n",
        "plt.show()"
      ]
    },
    {
      "cell_type": "code",
      "execution_count": null,
      "metadata": {
        "id": "0H11UooClLJ2"
      },
      "outputs": [],
      "source": [
        "# make copies of S and I\n",
        "Snew = list(S)\n",
        "Inew = list(I)\n",
        "# infect susceptible neighbors of infected nodes\n",
        "# go through all infected nodes\n",
        "for i in I:\n",
        "    # go through all neighbors of infected nodes\n",
        "    for j in G.neighbors(i):\n",
        "        # check if neighbor is in list of susceptible nodes\n",
        "        if j in Snew:\n",
        "            if np.random.rand() < beta:\n",
        "                # add j to new list of infected nodes\n",
        "                Inew.append(j)\n",
        "                # remove j from new list of susceptible nodes\n",
        "                Snew.remove(j)\n",
        "# update lists\n",
        "S = list(Snew)\n",
        "I = list(Inew)\n",
        "# make copy of I\n",
        "Inew = list(I)\n",
        "# go through all infected nodes\n",
        "for i in I:\n",
        "    # node i recovers with probability gamma = 0.1\n",
        "    if np.random.rand() < gamma:\n",
        "        Inew.remove(i)\n",
        "        R.append(i)\n",
        "# update list\n",
        "I = list(Inew)\n",
        "# draw edges first\n",
        "for e in G.edges():\n",
        "    i = e[0]\n",
        "    j = e[1]\n",
        "    plt.plot([pos[i][0], pos[j][0]],[pos[i][1], pos[j][1]], 'k', linewidth=2)\n",
        "# draw susceptible nodes\n",
        "for i in S:\n",
        "    r = pos[i]\n",
        "    plt.plot(r[0], r[1], 'bo', markersize=10)\n",
        "# draw infected nodes\n",
        "for i in I:\n",
        "    r = pos[i]\n",
        "    plt.plot(r[0], r[1], 'ro', markersize=10)\n",
        "# draw recovered nodes\n",
        "for i in R:\n",
        "    r = pos[i]\n",
        "    plt.plot(r[0], r[1], 'go', markersize=10)\n",
        "# do not show axes\n",
        "plt.axis('off')\n",
        "plt.show()"
      ]
    },
    {
      "cell_type": "code",
      "execution_count": null,
      "metadata": {
        "id": "BreewPOVlLJ2"
      },
      "outputs": [],
      "source": [
        "# make copies of S and I\n",
        "Snew = list(S)\n",
        "Inew = list(I)\n",
        "# infect susceptible neighbors of infected nodes\n",
        "# go through all infected nodes\n",
        "for i in I:\n",
        "    # go through all neighbors of infected nodes\n",
        "    for j in G.neighbors(i):\n",
        "        # check if neighbor is in list of susceptible nodes\n",
        "        if j in Snew:\n",
        "            if np.random.rand() < beta:\n",
        "                # add j to new list of infected nodes\n",
        "                Inew.append(j)\n",
        "                # remove j from new list of susceptible nodes\n",
        "                Snew.remove(j)\n",
        "# update lists\n",
        "S = list(Snew)\n",
        "I = list(Inew)\n",
        "# make copy of I\n",
        "Inew = list(I)\n",
        "# go through all infected nodes\n",
        "for i in I:\n",
        "    # node i recovers with probability gamma = 0.1\n",
        "    if np.random.rand() < gamma:\n",
        "        Inew.remove(i)\n",
        "        R.append(i)\n",
        "# update list\n",
        "I = list(Inew)\n",
        "# draw edges first\n",
        "for e in G.edges():\n",
        "    i = e[0]\n",
        "    j = e[1]\n",
        "    plt.plot([pos[i][0], pos[j][0]],[pos[i][1], pos[j][1]], 'k', linewidth=2)\n",
        "# draw susceptible nodes\n",
        "for i in S:\n",
        "    r = pos[i]\n",
        "    plt.plot(r[0], r[1], 'bo', markersize=10)\n",
        "# draw infected nodes\n",
        "for i in I:\n",
        "    r = pos[i]\n",
        "    plt.plot(r[0], r[1], 'ro', markersize=10)\n",
        "# draw recovered nodes\n",
        "for i in R:\n",
        "    r = pos[i]\n",
        "    plt.plot(r[0], r[1], 'go', markersize=10)\n",
        "# do not show axes\n",
        "plt.axis('off')\n",
        "plt.show()"
      ]
    },
    {
      "cell_type": "code",
      "execution_count": null,
      "metadata": {
        "id": "yeCE_xNPlLJ2"
      },
      "outputs": [],
      "source": [
        "# make copies of S and I\n",
        "Snew = list(S)\n",
        "Inew = list(I)\n",
        "# infect susceptible neighbors of infected nodes\n",
        "# go through all infected nodes\n",
        "for i in I:\n",
        "    # go through all neighbors of infected nodes\n",
        "    for j in G.neighbors(i):\n",
        "        # check if neighbor is in list of susceptible nodes\n",
        "        if j in Snew:\n",
        "            if np.random.rand() < beta:\n",
        "                # add j to new list of infected nodes\n",
        "                Inew.append(j)\n",
        "                # remove j from new list of susceptible nodes\n",
        "                Snew.remove(j)\n",
        "# update lists\n",
        "S = list(Snew)\n",
        "I = list(Inew)\n",
        "# make copy of I\n",
        "Inew = list(I)\n",
        "# go through all infected nodes\n",
        "for i in I:\n",
        "    # node i recovers with probability gamma = 0.1\n",
        "    if np.random.rand() < gamma:\n",
        "        Inew.remove(i)\n",
        "        R.append(i)\n",
        "# update list\n",
        "I = list(Inew)\n",
        "# draw edges first\n",
        "for e in G.edges():\n",
        "    i = e[0]\n",
        "    j = e[1]\n",
        "    plt.plot([pos[i][0], pos[j][0]],[pos[i][1], pos[j][1]], 'k', linewidth=2)\n",
        "# draw susceptible nodes\n",
        "for i in S:\n",
        "    r = pos[i]\n",
        "    plt.plot(r[0], r[1], 'bo', markersize=10)\n",
        "# draw infected nodes\n",
        "for i in I:\n",
        "    r = pos[i]\n",
        "    plt.plot(r[0], r[1], 'ro', markersize=10)\n",
        "# draw recovered nodes\n",
        "for i in R:\n",
        "    r = pos[i]\n",
        "    plt.plot(r[0], r[1], 'go', markersize=10)\n",
        "# do not show axes\n",
        "plt.axis('off')\n",
        "plt.show()"
      ]
    },
    {
      "cell_type": "code",
      "execution_count": null,
      "metadata": {
        "id": "mOYaLY37lLJ3"
      },
      "outputs": [],
      "source": [
        "# make copies of S and I\n",
        "Snew = list(S)\n",
        "Inew = list(I)\n",
        "# infect susceptible neighbors of infected nodes\n",
        "# go through all infected nodes\n",
        "for i in I:\n",
        "    # go through all neighbors of infected nodes\n",
        "    for j in G.neighbors(i):\n",
        "        # check if neighbor is in list of susceptible nodes\n",
        "        if j in Snew:\n",
        "            if np.random.rand() < beta:\n",
        "                # add j to new list of infected nodes\n",
        "                Inew.append(j)\n",
        "                # remove j from new list of susceptible nodes\n",
        "                Snew.remove(j)\n",
        "# update lists\n",
        "S = list(Snew)\n",
        "I = list(Inew)\n",
        "# make copy of I\n",
        "Inew = list(I)\n",
        "# go through all infected nodes\n",
        "for i in I:\n",
        "    # node i recovers with probability gamma = 0.1\n",
        "    if np.random.rand() < gamma:\n",
        "        Inew.remove(i)\n",
        "        R.append(i)\n",
        "# update list\n",
        "I = list(Inew)\n",
        "# draw edges first\n",
        "for e in G.edges():\n",
        "    i = e[0]\n",
        "    j = e[1]\n",
        "    plt.plot([pos[i][0], pos[j][0]],[pos[i][1], pos[j][1]], 'k', linewidth=2)\n",
        "# draw susceptible nodes\n",
        "for i in S:\n",
        "    r = pos[i]\n",
        "    plt.plot(r[0], r[1], 'bo', markersize=10)\n",
        "# draw infected nodes\n",
        "for i in I:\n",
        "    r = pos[i]\n",
        "    plt.plot(r[0], r[1], 'ro', markersize=10)\n",
        "# draw recovered nodes\n",
        "for i in R:\n",
        "    r = pos[i]\n",
        "    plt.plot(r[0], r[1], 'go', markersize=10)\n",
        "# do not show axes\n",
        "plt.axis('off')\n",
        "plt.show()"
      ]
    },
    {
      "cell_type": "markdown",
      "metadata": {
        "id": "PJqjQAFVlLJ3"
      },
      "source": [
        "## The Effective Reproductive Number\n",
        "\n",
        "The SIR equation can be solved exactly, to give\n",
        "\\begin{equation}\n",
        "I(t) = I_0 \\exp\\left[(R_{\\text{eff}} - 1)\\gamma t\\right].\n",
        "\\end{equation}\n",
        "From this equation, we see that if $R_{\\text{eff}} < 1$, the number of infected cases would decay exponentially. $R_{\\text{eff}}$ is called the <em>effective reproductive number</em>.\n",
        "\n",
        "Play around with $\\beta$ keeping $\\gamma$ constant, to simulate a situation in which $R_{\\text{eff}} < 1$."
      ]
    },
    {
      "cell_type": "markdown",
      "metadata": {
        "id": "oBgtqPjklLJ3"
      },
      "source": [
        "## Duration of Infectious Period\n",
        "\n",
        "In the SIR equation, infected individuals are assumed to recover at a rate of $\\gamma I(t)$. When we implement this probabilistically, we will find a number of infected individuals recovering after one time step. In the real world, this almost never happens.\n",
        "\n",
        "Instead of letting the infected individuals recover over a distribution of infectious durations, we can set a fixed duration for the infectious period. After this period, the infected individual recovers.\n",
        "\n",
        "Modify the network simulation to allow for a fixed duration for the infectious period."
      ]
    },
    {
      "cell_type": "markdown",
      "metadata": {
        "id": "nKI0lcmYlLJ4"
      },
      "source": [
        "## SEIR Dynamics on Network\n",
        "\n",
        "We described the SEIR equations earlier, so that exposed (E) individuals become infectious (I) after a certain incubation period.\n",
        "\n",
        "Modify the network simulation you have so far, so that exposed individuals remained uninfectious for $\\tau_1$ time steps, while infected individuals remained infectious for $\\tau_2$ time steps."
      ]
    },
    {
      "cell_type": "markdown",
      "metadata": {
        "id": "rDUzYPhylLJ4"
      },
      "source": [
        "## SIR Dynamics on a Scale-Free Network\n",
        "\n",
        "So far we have simulated SIR dynamics on a Erdos-Renyi network, also called a random network.\n",
        "\n",
        "Another popular model is the Barabasi-Albert network, also called a scale-free network. This can be generated using the <code>networkx</code> built-in function <code>barabasi_albert_graph(n, m[, seed, …])</code>.\n",
        "\n",
        "Are there any noticeable differences simulating SIR dynamics on a random network and a scale-free network?"
      ]
    },
    {
      "cell_type": "code",
      "execution_count": null,
      "metadata": {
        "id": "3oEu07UzlLJ5"
      },
      "outputs": [],
      "source": []
    }
  ],
  "metadata": {
    "kernelspec": {
      "display_name": "Python 3",
      "language": "python",
      "name": "python3"
    },
    "language_info": {
      "codemirror_mode": {
        "name": "ipython",
        "version": 3
      },
      "file_extension": ".py",
      "mimetype": "text/x-python",
      "name": "python",
      "nbconvert_exporter": "python",
      "pygments_lexer": "ipython3",
      "version": "3.9.1"
    },
    "colab": {
      "provenance": [],
      "include_colab_link": true
    }
  },
  "nbformat": 4,
  "nbformat_minor": 0
}